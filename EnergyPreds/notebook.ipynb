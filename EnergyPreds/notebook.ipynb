{
 "cells": [
  {
   "cell_type": "code",
   "execution_count": 1,
   "id": "c71991a4",
   "metadata": {},
   "outputs": [],
   "source": [
    "import pandas as pd\n",
    "import numpy as np\n",
    "import matplotlib.pyplot as plt\n",
    "import seaborn as sns\n",
    "import optuna\n",
    "import warnings\n",
    "warnings.filterwarnings('ignore')\n",
    "\n",
    "from sklearn.pipeline import Pipeline\n",
    "from sklearn.impute import SimpleImputer\n",
    "from sklearn.preprocessing import StandardScaler, OneHotEncoder, PowerTransformer, PolynomialFeatures\n",
    "from sklearn.compose import ColumnTransformer\n",
    "from sklearn.model_selection import train_test_split\n",
    "\n",
    "from lightgbm import LGBMRegressor\n",
    "from sklearn.model_selection import KFold, cross_val_score\n"
   ]
  },
  {
   "cell_type": "code",
   "execution_count": 2,
   "id": "7810c7c9",
   "metadata": {},
   "outputs": [
    {
     "name": "stdout",
     "output_type": "stream",
     "text": [
      "{'uci_id': 374, 'name': 'Appliances Energy Prediction', 'repository_url': 'https://archive.ics.uci.edu/dataset/374/appliances+energy+prediction', 'data_url': 'https://archive.ics.uci.edu/static/public/374/data.csv', 'abstract': 'Experimental data used to create regression models of appliances energy use in a low energy building.', 'area': 'Computer Science', 'tasks': ['Regression'], 'characteristics': ['Multivariate', 'Time-Series'], 'num_instances': 19735, 'num_features': 28, 'feature_types': ['Real'], 'demographics': [], 'target_col': ['Appliances'], 'index_col': None, 'has_missing_values': 'no', 'missing_values_symbol': None, 'year_of_dataset_creation': 2017, 'last_updated': 'Fri Mar 29 2024', 'dataset_doi': '10.24432/C5VC8G', 'creators': ['Luis Candanedo'], 'intro_paper': {'ID': 398, 'type': 'NATIVE', 'title': 'Data driven prediction models of energy use of appliances in a low-energy house', 'authors': 'L. Candanedo, V. Feldheim, Dominique Deramaix', 'venue': 'Energy and Buildings, Volume 140', 'year': 2017, 'journal': None, 'DOI': '10.1016/j.enbuild.2017.01.083', 'URL': 'https://www.semanticscholar.org/paper/28025ec6f4d5ab121bd91b36c754c0f0831d2433', 'sha': None, 'corpus': None, 'arxiv': None, 'mag': None, 'acl': None, 'pmid': None, 'pmcid': None}, 'additional_info': {'summary': 'The data set is at 10 min for about 4.5 months. The house temperature and humidity conditions were monitored with a ZigBee wireless sensor network. Each wireless node transmitted the temperature and humidity conditions around 3.3 min. Then, the wireless data was averaged for 10 minutes periods. The energy data was logged every 10 minutes with m-bus energy meters. Weather from the nearest airport weather station (Chievres Airport, Belgium) was downloaded from a public data set from Reliable Prognosis (rp5.ru), and merged together with the experimental data sets using the date and time column. Two random variables have been included in the data set for testing the regression models and to filter out non predictive attributes (parameters).\\r\\n\\r\\nFor more information about the house, data collection, R scripts and figures, please refer to the paper and to the following github repository:\\r\\n\\r\\nhttps://github.com/LuisM78/Appliances-energy-prediction-data\\r\\n', 'purpose': None, 'funded_by': None, 'instances_represent': None, 'recommended_data_splits': None, 'sensitive_data': None, 'preprocessing_description': None, 'variable_info': 'date time year-month-day hour:minute:second \\r\\nAppliances, energy use in Wh\\r\\nlights, energy use of light fixtures in the house in Wh\\r\\nT1, Temperature in kitchen area, in Celsius\\r\\nRH_1, Humidity in kitchen area, in %\\r\\nT2, Temperature in living room area, in Celsius\\r\\nRH_2, Humidity in living room area, in %\\r\\nT3, Temperature in laundry room area\\r\\nRH_3, Humidity in laundry room area, in %\\r\\nT4, Temperature in office room, in Celsius\\r\\nRH_4, Humidity in office room, in %\\r\\nT5, Temperature in bathroom, in Celsius\\r\\nRH_5, Humidity in bathroom, in %\\r\\nT6, Temperature outside the building (north side), in Celsius\\r\\nRH_6, Humidity outside the building (north side), in %\\r\\nT7, Temperature in ironing room , in Celsius\\r\\nRH_7, Humidity in ironing room, in %\\r\\nT8, Temperature in teenager room 2, in Celsius\\r\\nRH_8, Humidity in teenager room 2, in %\\r\\nT9, Temperature in parents room, in Celsius\\r\\nRH_9, Humidity in parents room, in %\\r\\nTo, Temperature outside (from Chievres weather station), in Celsius\\r\\nPressure (from Chievres weather station), in mm Hg\\r\\nRH_out, Humidity outside (from Chievres weather station), in %\\r\\nWind speed (from Chievres weather station), in m/s\\r\\nVisibility (from Chievres weather station), in km\\r\\nTdewpoint (from Chievres weather station), Â°C\\r\\nrv1, Random variable 1, nondimensional\\r\\nrv2, Random variable 2, nondimensional\\r\\n\\r\\nWhere indicated, hourly data (then interpolated) from the nearest airport weather station (Chievres Airport, Belgium) was downloaded from a public data set from Reliable Prognosis, rp5.ru. Permission was obtained from Reliable Prognosis for the distribution of the 4.5 months of weather data.\\r\\n', 'citation': None}}\n",
      "           name     role        type demographic description  units  \\\n",
      "0          date  Feature        Date        None        None   None   \n",
      "1    Appliances   Target     Integer        None        None     Wh   \n",
      "2        lights  Feature     Integer        None        None     Wh   \n",
      "3            T1  Feature  Continuous        None        None      C   \n",
      "4          RH_1  Feature  Continuous        None        None      %   \n",
      "5            T2  Feature  Continuous        None        None      C   \n",
      "6          RH_2  Feature  Continuous        None        None      %   \n",
      "7            T3  Feature  Continuous        None        None      C   \n",
      "8          RH_3  Feature  Continuous        None        None      %   \n",
      "9            T4  Feature  Continuous        None        None      C   \n",
      "10         RH_4  Feature  Continuous        None        None      %   \n",
      "11           T5  Feature  Continuous        None        None      C   \n",
      "12         RH_5  Feature  Continuous        None        None      %   \n",
      "13           T6  Feature  Continuous        None        None      C   \n",
      "14         RH_6  Feature  Continuous        None        None      %   \n",
      "15           T7  Feature  Continuous        None        None      C   \n",
      "16         RH_7  Feature  Continuous        None        None      %   \n",
      "17           T8  Feature  Continuous        None        None      C   \n",
      "18         RH_8  Feature  Continuous        None        None      %   \n",
      "19           T9  Feature  Continuous        None        None      C   \n",
      "20         RH_9  Feature  Continuous        None        None      %   \n",
      "21        T_out  Feature  Continuous        None        None      C   \n",
      "22  Press_mm_hg  Feature  Continuous        None        None  mm Hg   \n",
      "23       RH_out  Feature  Continuous        None        None      %   \n",
      "24    Windspeed  Feature  Continuous        None        None    m/s   \n",
      "25   Visibility  Feature  Continuous        None        None     km   \n",
      "26    Tdewpoint  Feature  Continuous        None        None      C   \n",
      "27          rv1  Feature  Continuous        None        None   None   \n",
      "28          rv2  Feature  Continuous        None        None   None   \n",
      "\n",
      "   missing_values  \n",
      "0              no  \n",
      "1              no  \n",
      "2              no  \n",
      "3              no  \n",
      "4              no  \n",
      "5              no  \n",
      "6              no  \n",
      "7              no  \n",
      "8              no  \n",
      "9              no  \n",
      "10             no  \n",
      "11             no  \n",
      "12             no  \n",
      "13             no  \n",
      "14             no  \n",
      "15             no  \n",
      "16             no  \n",
      "17             no  \n",
      "18             no  \n",
      "19             no  \n",
      "20             no  \n",
      "21             no  \n",
      "22             no  \n",
      "23             no  \n",
      "24             no  \n",
      "25             no  \n",
      "26             no  \n",
      "27             no  \n",
      "28             no  \n"
     ]
    }
   ],
   "source": [
    "from ucimlrepo import fetch_ucirepo \n",
    "  \n",
    "# fetch dataset \n",
    "appliances_energy_prediction = fetch_ucirepo(id=374) \n",
    "  \n",
    "# data (as pandas dataframes) \n",
    "X = appliances_energy_prediction.data.features \n",
    "y = appliances_energy_prediction.data.targets \n",
    "  \n",
    "# metadata \n",
    "print(appliances_energy_prediction.metadata) \n",
    "  \n",
    "# variable information \n",
    "print(appliances_energy_prediction.variables) \n"
   ]
  },
  {
   "cell_type": "code",
   "execution_count": 3,
   "id": "d43b9aad",
   "metadata": {},
   "outputs": [],
   "source": [
    "X_train, X_val, y_train, y_val = train_test_split(X, y, test_size=0.2, random_state=42)\n",
    "y_train = y_train.values.ravel()"
   ]
  },
  {
   "cell_type": "code",
   "execution_count": 4,
   "id": "521c55fa",
   "metadata": {},
   "outputs": [],
   "source": [
    "date_format = '%Y-%m-%d%H:%M:%S'\n",
    "\n",
    "X_train['date'] = pd.to_datetime(X_train['date'], format=date_format)\n",
    "X_val['date'] = pd.to_datetime(X_val['date'], format=date_format)"
   ]
  },
  {
   "cell_type": "code",
   "execution_count": 5,
   "id": "4c359102",
   "metadata": {},
   "outputs": [],
   "source": [
    "X_train['dayofweek'] = X_train['date'].dt.dayofweek\n",
    "X_train['hour'] = X_train['date'].dt.hour\n",
    "X_train['month'] = X_train['date'].dt.month\n",
    "X_train['year'] = X_train['date'].dt.year\n",
    "X_train['day'] = X_train['date'].dt.day\n",
    "X_train.drop(columns=['date'], inplace=True)"
   ]
  },
  {
   "cell_type": "code",
   "execution_count": 6,
   "id": "215d9e56",
   "metadata": {},
   "outputs": [],
   "source": [
    "X_val['dayofweek'] = X_val['date'].dt.dayofweek\n",
    "X_val['hour'] = X_val['date'].dt.hour\n",
    "X_val['month'] = X_val['date'].dt.month\n",
    "X_val['year'] = X_val['date'].dt.year\n",
    "X_val['day'] = X_val['date'].dt.day\n",
    "X_val.drop(columns=['date'], inplace=True)"
   ]
  },
  {
   "cell_type": "code",
   "execution_count": 7,
   "id": "4e94f251",
   "metadata": {},
   "outputs": [],
   "source": [
    "X_train['day_sin'] = np.sin(2 * np.pi * X_train['day']/31)\n",
    "X_train['day_cos'] = np.cos(2 * np.pi * X_train['day']/31)\n",
    "X_train['month_sin'] = np.sin(2 * np.pi * X_train['month']/12)\n",
    "X_train['month_cos'] = np.cos(2 * np.pi * X_train['month']/12)\n",
    "X_train['hour_sin'] = np.sin(2 * np.pi * X_train['hour']/24)\n",
    "X_train['hour_cos'] = np.cos(2 * np.pi * X_train['hour']/24)\n",
    "X_train['dayofweek_sin'] = np.sin(2 * np.pi * X_train['dayofweek']/31)\n",
    "X_train['dayofweek_cos'] = np.cos(2 * np.pi * X_train['dayofweek']/31)\n",
    "X_train.drop(columns=['day', 'month', 'hour', 'dayofweek'], inplace=True)"
   ]
  },
  {
   "cell_type": "code",
   "execution_count": 8,
   "id": "8a48e109",
   "metadata": {},
   "outputs": [],
   "source": [
    "X_val['day_sin'] = np.sin(2 * np.pi * X_val['day']/31)\n",
    "X_val['day_cos'] = np.cos(2 * np.pi * X_val['day']/31)\n",
    "X_val['month_sin'] = np.sin(2 * np.pi * X_val['month']/12)\n",
    "X_val['month_cos'] = np.cos(2 * np.pi * X_val['month']/12)\n",
    "X_val['hour_sin'] = np.sin(2 * np.pi * X_val['hour']/24)\n",
    "X_val['hour_cos'] = np.cos(2 * np.pi * X_val['hour']/24)\n",
    "X_val['dayofweek_sin'] = np.sin(2 * np.pi * X_val['dayofweek']/31)\n",
    "X_val['dayofweek_cos'] = np.cos(2 * np.pi * X_val['dayofweek']/31)\n",
    "X_val.drop(columns=['day', 'month', 'hour', 'dayofweek'], inplace=True)"
   ]
  },
  {
   "cell_type": "code",
   "execution_count": 9,
   "id": "22910d71",
   "metadata": {},
   "outputs": [
    {
     "data": {
      "text/plain": [
       "(['lights', 'year'],\n",
       " ['T1',\n",
       "  'RH_1',\n",
       "  'T2',\n",
       "  'RH_2',\n",
       "  'T3',\n",
       "  'RH_3',\n",
       "  'T4',\n",
       "  'RH_4',\n",
       "  'T5',\n",
       "  'RH_5',\n",
       "  'T6',\n",
       "  'RH_6',\n",
       "  'T7',\n",
       "  'RH_7',\n",
       "  'T8',\n",
       "  'RH_8',\n",
       "  'T9',\n",
       "  'RH_9',\n",
       "  'T_out',\n",
       "  'Press_mm_hg',\n",
       "  'RH_out',\n",
       "  'Windspeed',\n",
       "  'Visibility',\n",
       "  'Tdewpoint',\n",
       "  'rv1',\n",
       "  'rv2',\n",
       "  'day_sin',\n",
       "  'day_cos',\n",
       "  'month_sin',\n",
       "  'month_cos',\n",
       "  'hour_sin',\n",
       "  'hour_cos',\n",
       "  'dayofweek_sin',\n",
       "  'dayofweek_cos'])"
      ]
     },
     "execution_count": 9,
     "metadata": {},
     "output_type": "execute_result"
    }
   ],
   "source": [
    "num = [i for i in X_train.columns if i not in ['lights','year']]\n",
    "cat = [i for i in X_train.columns if i not in num]\n",
    "cat, num"
   ]
  },
  {
   "cell_type": "code",
   "execution_count": 10,
   "id": "d049349a",
   "metadata": {},
   "outputs": [],
   "source": [
    "def objective(trial):\n",
    "    \"\"\"\n",
    "    Fungsi objective yang diperluas dengan lebih banyak model regresi.\n",
    "    \"\"\"\n",
    "    num_pipe = Pipeline(steps=[\n",
    "    # ('imputer', SimpleImputer(strategy='median')),\n",
    "    ('poly', PolynomialFeatures(degree=trial.suggest_int('degree', 1, 2), include_bias=False)),\n",
    "    ('power', PowerTransformer(method='yeo-johnson')),\n",
    "    ('scaler', StandardScaler())\n",
    "    ])\n",
    "    cat_pipe = Pipeline(steps=[\n",
    "        # ('imputer', SimpleImputer(strategy='most_frequent')),\n",
    "        ('onehot', OneHotEncoder(handle_unknown='ignore'))\n",
    "    ])\n",
    "    preprocessor = ColumnTransformer(transformers=[\n",
    "        ('num', num_pipe, num),\n",
    "        ('cat', cat_pipe, cat)\n",
    "    ])\n",
    "    \n",
    "    params = {\n",
    "    'objective': 'regression',\n",
    "    'metric': 'rmse',\n",
    "    'n_estimators': trial.suggest_int('lgbm_n_estimators', 100, 3000, step=100),\n",
    "    'learning_rate': trial.suggest_float('lgbm_learning_rate', 0.005, 0.5, log=True),\n",
    "    'num_leaves': trial.suggest_int('lgbm_num_leaves', 10, 400),\n",
    "    'max_depth': trial.suggest_int('lgbm_max_depth', 5, 50),\n",
    "    'subsample': trial.suggest_float('lgbm_subsample', 0.5, 1.0),\n",
    "    'colsample_bytree': trial.suggest_float('lgbm_colsample_bytree', 0.5, 1.0),\n",
    "    'reg_alpha': trial.suggest_float('lgbm_reg_alpha', 1e-8, 10.0, log=True),\n",
    "    'reg_lambda': trial.suggest_float('lgbm_reg_lambda', 1e-8, 10.0, log=True),\n",
    "    'random_state': 42,\n",
    "    'verbose': -1\n",
    "}\n",
    "    regressor_obj = LGBMRegressor(**params)\n",
    "    pipeline = Pipeline(steps=[\n",
    "        ('preprocessor', preprocessor),\n",
    "        ('regressor', regressor_obj)\n",
    "    ])\n",
    "    cv = KFold(n_splits=5, shuffle=True, random_state=42)\n",
    "    score = cross_val_score(pipeline, X_train, y_train, cv=cv, scoring='r2', n_jobs=-1)\n",
    "\n",
    "    return score.mean()"
   ]
  },
  {
   "cell_type": "code",
   "execution_count": null,
   "id": "7abbeee5",
   "metadata": {},
   "outputs": [
    {
     "name": "stderr",
     "output_type": "stream",
     "text": [
      "[I 2025-08-28 23:26:42,010] A new study created in memory with name: no-name-87bffa00-a205-4f9c-b547-e9d05b0552ee\n"
     ]
    },
    {
     "data": {
      "application/vnd.jupyter.widget-view+json": {
       "model_id": "01f0ce02ee814b6b8abd37f6f9d232ff",
       "version_major": 2,
       "version_minor": 0
      },
      "text/plain": [
       "  0%|          | 0/100 [00:00<?, ?it/s]"
      ]
     },
     "metadata": {},
     "output_type": "display_data"
    },
    {
     "name": "stdout",
     "output_type": "stream",
     "text": [
      "[I 2025-08-28 23:35:37,331] Trial 3 finished with value: 0.5166045253225174 and parameters: {'degree': 1, 'lgbm_n_estimators': 500, 'lgbm_learning_rate': 0.28755396421255475, 'lgbm_num_leaves': 345, 'lgbm_max_depth': 23, 'lgbm_subsample': 0.9252982727929896, 'lgbm_colsample_bytree': 0.8979327076018371, 'lgbm_reg_alpha': 0.0063464645155775455, 'lgbm_reg_lambda': 6.152597233107565}. Best is trial 3 with value: 0.5166045253225174.\n",
      "[I 2025-08-28 23:35:56,743] Trial 1 finished with value: 0.5280931754146956 and parameters: {'degree': 1, 'lgbm_n_estimators': 2300, 'lgbm_learning_rate': 0.1456652115460614, 'lgbm_num_leaves': 215, 'lgbm_max_depth': 43, 'lgbm_subsample': 0.5769584890311276, 'lgbm_colsample_bytree': 0.9790062475732788, 'lgbm_reg_alpha': 1.567537550942898e-05, 'lgbm_reg_lambda': 6.853923869297134e-05}. Best is trial 1 with value: 0.5280931754146956.\n",
      "[I 2025-08-28 23:38:19,680] Trial 6 finished with value: 0.45425037376475663 and parameters: {'degree': 1, 'lgbm_n_estimators': 2100, 'lgbm_learning_rate': 0.4865230538194052, 'lgbm_num_leaves': 85, 'lgbm_max_depth': 38, 'lgbm_subsample': 0.9210491004098545, 'lgbm_colsample_bytree': 0.536781072599193, 'lgbm_reg_alpha': 0.0002932658407785355, 'lgbm_reg_lambda': 0.0007591263177805841}. Best is trial 1 with value: 0.5280931754146956.\n",
      "[I 2025-08-28 23:39:50,734] Trial 2 finished with value: 0.5351874653168617 and parameters: {'degree': 2, 'lgbm_n_estimators': 400, 'lgbm_learning_rate': 0.10353970995154584, 'lgbm_num_leaves': 383, 'lgbm_max_depth': 23, 'lgbm_subsample': 0.9568542048037223, 'lgbm_colsample_bytree': 0.8236947841361372, 'lgbm_reg_alpha': 0.0025584288498045763, 'lgbm_reg_lambda': 0.0019931314716959553}. Best is trial 2 with value: 0.5351874653168617.\n",
      "[I 2025-08-28 23:43:11,901] Trial 10 finished with value: 0.522820508805135 and parameters: {'degree': 1, 'lgbm_n_estimators': 1100, 'lgbm_learning_rate': 0.008522099622148815, 'lgbm_num_leaves': 166, 'lgbm_max_depth': 37, 'lgbm_subsample': 0.7403905594707021, 'lgbm_colsample_bytree': 0.84834878616517, 'lgbm_reg_alpha': 0.07119770900448147, 'lgbm_reg_lambda': 1.2548314550466809e-08}. Best is trial 2 with value: 0.5351874653168617.\n",
      "[I 2025-08-28 23:43:38,474] Trial 14 finished with value: 0.44563430399550513 and parameters: {'degree': 1, 'lgbm_n_estimators': 200, 'lgbm_learning_rate': 0.00849844766494713, 'lgbm_num_leaves': 392, 'lgbm_max_depth': 40, 'lgbm_subsample': 0.9888617816050667, 'lgbm_colsample_bytree': 0.593619316540853, 'lgbm_reg_alpha': 5.4996050453600546e-05, 'lgbm_reg_lambda': 4.2179542592917215e-05}. Best is trial 2 with value: 0.5351874653168617.\n",
      "[I 2025-08-28 23:46:22,863] Trial 11 finished with value: 0.5082147621276876 and parameters: {'degree': 1, 'lgbm_n_estimators': 1400, 'lgbm_learning_rate': 0.010367280818907833, 'lgbm_num_leaves': 63, 'lgbm_max_depth': 26, 'lgbm_subsample': 0.6903671869805925, 'lgbm_colsample_bytree': 0.8242931531168325, 'lgbm_reg_alpha': 0.0026155356580464845, 'lgbm_reg_lambda': 1.1409892998829426e-05}. Best is trial 2 with value: 0.5351874653168617.\n",
      "[I 2025-08-28 23:47:54,073] Trial 4 finished with value: 0.5417186989444522 and parameters: {'degree': 2, 'lgbm_n_estimators': 1500, 'lgbm_learning_rate': 0.06545394658532334, 'lgbm_num_leaves': 57, 'lgbm_max_depth': 36, 'lgbm_subsample': 0.8075442161820487, 'lgbm_colsample_bytree': 0.5166989185938513, 'lgbm_reg_alpha': 0.10532724237459057, 'lgbm_reg_lambda': 3.159603567473729e-08}. Best is trial 4 with value: 0.5417186989444522.\n",
      "[I 2025-08-28 23:49:05,627] Trial 5 finished with value: 0.53885562860345 and parameters: {'degree': 1, 'lgbm_n_estimators': 2900, 'lgbm_learning_rate': 0.04826719660974005, 'lgbm_num_leaves': 347, 'lgbm_max_depth': 38, 'lgbm_subsample': 0.920887454473243, 'lgbm_colsample_bytree': 0.8143210560347698, 'lgbm_reg_alpha': 0.07388906346995433, 'lgbm_reg_lambda': 0.3901358037049967}. Best is trial 4 with value: 0.5417186989444522.\n",
      "[I 2025-08-28 23:50:34,308] Trial 9 finished with value: 0.5405823376652467 and parameters: {'degree': 1, 'lgbm_n_estimators': 1900, 'lgbm_learning_rate': 0.018597460017099818, 'lgbm_num_leaves': 162, 'lgbm_max_depth': 50, 'lgbm_subsample': 0.5682076736005639, 'lgbm_colsample_bytree': 0.8855109558949144, 'lgbm_reg_alpha': 0.00023220209092182637, 'lgbm_reg_lambda': 2.3498628513779932e-05}. Best is trial 4 with value: 0.5417186989444522.\n",
      "[I 2025-08-28 23:53:38,532] Trial 7 finished with value: 0.4828768121597465 and parameters: {'degree': 1, 'lgbm_n_estimators': 1200, 'lgbm_learning_rate': 0.006263270572814874, 'lgbm_num_leaves': 115, 'lgbm_max_depth': 11, 'lgbm_subsample': 0.921723409614442, 'lgbm_colsample_bytree': 0.9903189675335449, 'lgbm_reg_alpha': 0.10993572339338482, 'lgbm_reg_lambda': 0.6343118956883372}. Best is trial 4 with value: 0.5417186989444522.\n",
      "[I 2025-08-28 23:54:39,973] Trial 0 finished with value: 0.5221689482076635 and parameters: {'degree': 1, 'lgbm_n_estimators': 2700, 'lgbm_learning_rate': 0.19313182295793874, 'lgbm_num_leaves': 176, 'lgbm_max_depth': 42, 'lgbm_subsample': 0.80091675247521, 'lgbm_colsample_bytree': 0.5818694752706781, 'lgbm_reg_alpha': 0.6272664964266069, 'lgbm_reg_lambda': 5.289500715253734e-06}. Best is trial 4 with value: 0.5417186989444522.\n",
      "[I 2025-08-28 23:57:38,643] Trial 15 finished with value: 0.5204527494137958 and parameters: {'degree': 2, 'lgbm_n_estimators': 1800, 'lgbm_learning_rate': 0.19221814418398542, 'lgbm_num_leaves': 157, 'lgbm_max_depth': 33, 'lgbm_subsample': 0.697864361548866, 'lgbm_colsample_bytree': 0.5486763735558731, 'lgbm_reg_alpha': 0.005263150438382155, 'lgbm_reg_lambda': 0.00014024113732116333}. Best is trial 4 with value: 0.5417186989444522.\n",
      "[I 2025-08-28 23:58:19,433] Trial 17 finished with value: 0.515762350679503 and parameters: {'degree': 2, 'lgbm_n_estimators': 1400, 'lgbm_learning_rate': 0.26333951027867536, 'lgbm_num_leaves': 34, 'lgbm_max_depth': 11, 'lgbm_subsample': 0.5583072132428177, 'lgbm_colsample_bytree': 0.5027445792305777, 'lgbm_reg_alpha': 7.238090596966981e-07, 'lgbm_reg_lambda': 1.456400199504213e-08}. Best is trial 4 with value: 0.5417186989444522.\n",
      "[I 2025-08-28 23:58:50,695] Trial 8 finished with value: 0.5206791985923586 and parameters: {'degree': 1, 'lgbm_n_estimators': 1100, 'lgbm_learning_rate': 0.18557452998030252, 'lgbm_num_leaves': 293, 'lgbm_max_depth': 38, 'lgbm_subsample': 0.927316486895148, 'lgbm_colsample_bytree': 0.7687488295878158, 'lgbm_reg_alpha': 1.587652114209507, 'lgbm_reg_lambda': 0.4745899425783371}. Best is trial 4 with value: 0.5417186989444522.\n",
      "[I 2025-08-28 23:59:02,055] Trial 12 finished with value: 0.4923346861583954 and parameters: {'degree': 2, 'lgbm_n_estimators': 2100, 'lgbm_learning_rate': 0.3387721608509539, 'lgbm_num_leaves': 212, 'lgbm_max_depth': 26, 'lgbm_subsample': 0.6572557576642115, 'lgbm_colsample_bytree': 0.7792657669988831, 'lgbm_reg_alpha': 2.665678072385884e-06, 'lgbm_reg_lambda': 3.587314508339861e-08}. Best is trial 4 with value: 0.5417186989444522.\n",
      "[I 2025-08-28 23:59:47,392] Trial 13 finished with value: 0.5395465677348328 and parameters: {'degree': 1, 'lgbm_n_estimators': 2900, 'lgbm_learning_rate': 0.011841494937499098, 'lgbm_num_leaves': 251, 'lgbm_max_depth': 49, 'lgbm_subsample': 0.9591251473725788, 'lgbm_colsample_bytree': 0.9947845618277896, 'lgbm_reg_alpha': 6.299597597079132e-07, 'lgbm_reg_lambda': 0.012581290847901307}. Best is trial 4 with value: 0.5417186989444522.\n",
      "[I 2025-08-28 23:59:52,999] Trial 16 finished with value: 0.5422201183374576 and parameters: {'degree': 1, 'lgbm_n_estimators': 2200, 'lgbm_learning_rate': 0.03201307068718517, 'lgbm_num_leaves': 137, 'lgbm_max_depth': 30, 'lgbm_subsample': 0.7152346888131674, 'lgbm_colsample_bytree': 0.9123659736496483, 'lgbm_reg_alpha': 8.362449761634041e-08, 'lgbm_reg_lambda': 3.122976072138911e-07}. Best is trial 16 with value: 0.5422201183374576.\n",
      "[I 2025-08-28 23:59:53,040] Trial 21 finished with value: 0.4524891107459713 and parameters: {'degree': 1, 'lgbm_n_estimators': 100, 'lgbm_learning_rate': 0.1380281451740583, 'lgbm_num_leaves': 26, 'lgbm_max_depth': 47, 'lgbm_subsample': 0.8631451227351943, 'lgbm_colsample_bytree': 0.7416838412829039, 'lgbm_reg_alpha': 2.909760716625105e-07, 'lgbm_reg_lambda': 2.3888841825099495e-06}. Best is trial 16 with value: 0.5422201183374576.\n",
      "[I 2025-08-29 00:00:23,471] Trial 19 finished with value: 0.5320068722889699 and parameters: {'degree': 1, 'lgbm_n_estimators': 1600, 'lgbm_learning_rate': 0.020909883684393882, 'lgbm_num_leaves': 69, 'lgbm_max_depth': 39, 'lgbm_subsample': 0.763457391963609, 'lgbm_colsample_bytree': 0.7932819244408398, 'lgbm_reg_alpha': 9.989123292361602e-07, 'lgbm_reg_lambda': 9.591739786655785e-05}. Best is trial 16 with value: 0.5422201183374576.\n",
      "[I 2025-08-29 00:00:56,159] Trial 23 finished with value: 0.45285918552334203 and parameters: {'degree': 1, 'lgbm_n_estimators': 300, 'lgbm_learning_rate': 0.011076710240905811, 'lgbm_num_leaves': 74, 'lgbm_max_depth': 31, 'lgbm_subsample': 0.658181185140142, 'lgbm_colsample_bytree': 0.5207472914325818, 'lgbm_reg_alpha': 3.822401309763172e-05, 'lgbm_reg_lambda': 2.4209939216984053e-07}. Best is trial 16 with value: 0.5422201183374576.\n",
      "[I 2025-08-29 00:01:01,824] Trial 22 finished with value: 0.5292081361247254 and parameters: {'degree': 1, 'lgbm_n_estimators': 1400, 'lgbm_learning_rate': 0.16705584011160662, 'lgbm_num_leaves': 53, 'lgbm_max_depth': 48, 'lgbm_subsample': 0.7596141416181674, 'lgbm_colsample_bytree': 0.5369117010038355, 'lgbm_reg_alpha': 0.3320669309040342, 'lgbm_reg_lambda': 0.39485635217343934}. Best is trial 16 with value: 0.5422201183374576.\n",
      "[I 2025-08-29 00:04:33,465] Trial 25 finished with value: 0.5229337877379373 and parameters: {'degree': 2, 'lgbm_n_estimators': 900, 'lgbm_learning_rate': 0.04125755357236438, 'lgbm_num_leaves': 22, 'lgbm_max_depth': 9, 'lgbm_subsample': 0.8174413898752692, 'lgbm_colsample_bytree': 0.673092470405772, 'lgbm_reg_alpha': 7.5898162758659256, 'lgbm_reg_lambda': 1.0351394579874091e-08}. Best is trial 16 with value: 0.5422201183374576.\n",
      "[I 2025-08-29 00:04:57,081] Trial 24 finished with value: 0.5386438691672936 and parameters: {'degree': 1, 'lgbm_n_estimators': 2500, 'lgbm_learning_rate': 0.046244720192947855, 'lgbm_num_leaves': 86, 'lgbm_max_depth': 42, 'lgbm_subsample': 0.5378915632415006, 'lgbm_colsample_bytree': 0.625371476836365, 'lgbm_reg_alpha': 2.6090013448376975e-06, 'lgbm_reg_lambda': 1.322657850439518e-06}. Best is trial 16 with value: 0.5422201183374576.\n",
      "[I 2025-08-29 00:05:37,890] Trial 18 finished with value: 0.5452860194208822 and parameters: {'degree': 1, 'lgbm_n_estimators': 2400, 'lgbm_learning_rate': 0.01283178921813461, 'lgbm_num_leaves': 205, 'lgbm_max_depth': 33, 'lgbm_subsample': 0.5963044061556613, 'lgbm_colsample_bytree': 0.5881789320100226, 'lgbm_reg_alpha': 3.1181851550257706e-08, 'lgbm_reg_lambda': 6.573852805308648e-06}. Best is trial 18 with value: 0.5452860194208822.\n"
     ]
    }
   ],
   "source": [
    "study = optuna.create_study(direction='maximize')\n",
    "study.optimize(objective, n_trials=100, n_jobs=-1, show_progress_bar=True)"
   ]
  },
  {
   "cell_type": "code",
   "execution_count": null,
   "id": "0d24af41",
   "metadata": {},
   "outputs": [],
   "source": []
  }
 ],
 "metadata": {
  "kernelspec": {
   "display_name": "dmsdl",
   "language": "python",
   "name": "python3"
  },
  "language_info": {
   "codemirror_mode": {
    "name": "ipython",
    "version": 3
   },
   "file_extension": ".py",
   "mimetype": "text/x-python",
   "name": "python",
   "nbconvert_exporter": "python",
   "pygments_lexer": "ipython3",
   "version": "3.11.13"
  }
 },
 "nbformat": 4,
 "nbformat_minor": 5
}
