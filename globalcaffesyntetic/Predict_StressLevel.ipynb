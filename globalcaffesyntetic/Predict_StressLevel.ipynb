{
 "cells": [
  {
   "cell_type": "code",
   "execution_count": 68,
   "id": "db038091",
   "metadata": {},
   "outputs": [],
   "source": [
    "import pandas as pd\n",
    "import numpy as np\n",
    "import matplotlib.pyplot as plt\n",
    "import seaborn as sns\n",
    "import warnings\n",
    "warnings.filterwarnings('ignore')\n",
    "\n",
    "from sklearn.pipeline import Pipeline\n",
    "from sklearn.impute import SimpleImputer\n",
    "from sklearn.preprocessing import StandardScaler, OneHotEncoder, PowerTransformer, PolynomialFeatures\n",
    "from sklearn.compose import ColumnTransformer\n",
    "from sklearn.model_selection import train_test_split\n",
    "\n",
    "from torch import nn\n",
    "import torch\n",
    "from torch.utils.data import TensorDataset, DataLoader\n",
    "import torch.optim as optim\n",
    "import pytorch_optimizer as optim1\n",
    "\n",
    "\n",
    "from pytorch_lightning import LightningModule\n",
    "from pytorch_lightning.callbacks import EarlyStopping, ModelCheckpoint, LearningRateMonitor\n",
    "from pytorch_lightning.loggers import TensorBoardLogger\n",
    "import pytorch_lightning as pl\n",
    "from torchmetrics.classification import F1Score, MulticlassCohenKappa, Accuracy"
   ]
  },
  {
   "cell_type": "code",
   "execution_count": 69,
   "id": "3bc788bf",
   "metadata": {},
   "outputs": [
    {
     "name": "stdout",
     "output_type": "stream",
     "text": [
      "Warning: Looks like you're using an outdated `kagglehub` version (installed: 0.3.12), please consider upgrading to the latest version (0.3.13).\n",
      "First 5 records:     Age  Gender  Country  Coffee_Intake  Caffeine_mg  Sleep_Hours  \\\n",
      "ID                                                                  \n",
      "1    40    Male  Germany            3.5        328.1          7.5   \n",
      "2    33    Male  Germany            1.0         94.1          6.2   \n",
      "3    42    Male   Brazil            5.3        503.7          5.9   \n",
      "4    53    Male  Germany            2.6        249.2          7.3   \n",
      "5    32  Female    Spain            3.1        298.0          5.3   \n",
      "\n",
      "   Sleep_Quality   BMI  Heart_Rate Stress_Level  Physical_Activity_Hours  \\\n",
      "ID                                                                         \n",
      "1           Good  24.9          78          Low                     14.5   \n",
      "2           Good  20.0          67          Low                     11.0   \n",
      "3           Fair  22.7          59       Medium                     11.2   \n",
      "4           Good  24.7          71          Low                      6.6   \n",
      "5           Fair  24.1          76       Medium                      8.5   \n",
      "\n",
      "   Occupation  Smoking  Alcohol_Consumption  \n",
      "ID                                           \n",
      "1       Other        0                    0  \n",
      "2     Service        0                    0  \n",
      "3      Office        0                    0  \n",
      "4       Other        0                    0  \n",
      "5     Student        0                    1  \n"
     ]
    }
   ],
   "source": [
    "# Install dependencies as needed:\n",
    "# pip install kagglehub[pandas-datasets]\n",
    "import kagglehub\n",
    "from kagglehub import KaggleDatasetAdapter\n",
    "\n",
    "# Set the path to the file you'd like to load\n",
    "file_path = \"synthetic_coffee_health_10000.csv\"\n",
    "\n",
    "# Load the latest version\n",
    "df = kagglehub.load_dataset(\n",
    "  KaggleDatasetAdapter.PANDAS,\n",
    "  \"uom190346a/global-coffee-health-dataset\",\n",
    "  file_path,\n",
    "  # Provide any additional arguments like \n",
    "  # sql_query or pandas_kwargs. See the \n",
    "  # documenation for more information:\n",
    "  # https://github.com/Kaggle/kagglehub/blob/main/README.md#kaggledatasetadapterpandas\n",
    ")\n",
    "df.set_index('ID', inplace=True)\n",
    "df.drop(columns=['Health_Issues'], inplace=True) \n",
    "print(\"First 5 records:\", df.head())"
   ]
  },
  {
   "cell_type": "code",
   "execution_count": 70,
   "id": "b952c513",
   "metadata": {},
   "outputs": [
    {
     "name": "stdout",
     "output_type": "stream",
     "text": [
      "<class 'pandas.core.frame.DataFrame'>\n",
      "Index: 10000 entries, 1 to 10000\n",
      "Data columns (total 14 columns):\n",
      " #   Column                   Non-Null Count  Dtype  \n",
      "---  ------                   --------------  -----  \n",
      " 0   Age                      10000 non-null  int64  \n",
      " 1   Gender                   10000 non-null  object \n",
      " 2   Country                  10000 non-null  object \n",
      " 3   Coffee_Intake            10000 non-null  float64\n",
      " 4   Caffeine_mg              10000 non-null  float64\n",
      " 5   Sleep_Hours              10000 non-null  float64\n",
      " 6   Sleep_Quality            10000 non-null  object \n",
      " 7   BMI                      10000 non-null  float64\n",
      " 8   Heart_Rate               10000 non-null  int64  \n",
      " 9   Stress_Level             10000 non-null  object \n",
      " 10  Physical_Activity_Hours  10000 non-null  float64\n",
      " 11  Occupation               10000 non-null  object \n",
      " 12  Smoking                  10000 non-null  int64  \n",
      " 13  Alcohol_Consumption      10000 non-null  int64  \n",
      "dtypes: float64(5), int64(4), object(5)\n",
      "memory usage: 1.1+ MB\n"
     ]
    },
    {
     "data": {
      "text/html": [
       "<div>\n",
       "<style scoped>\n",
       "    .dataframe tbody tr th:only-of-type {\n",
       "        vertical-align: middle;\n",
       "    }\n",
       "\n",
       "    .dataframe tbody tr th {\n",
       "        vertical-align: top;\n",
       "    }\n",
       "\n",
       "    .dataframe thead th {\n",
       "        text-align: right;\n",
       "    }\n",
       "</style>\n",
       "<table border=\"1\" class=\"dataframe\">\n",
       "  <thead>\n",
       "    <tr style=\"text-align: right;\">\n",
       "      <th></th>\n",
       "      <th>Age</th>\n",
       "      <th>Gender</th>\n",
       "      <th>Country</th>\n",
       "      <th>Coffee_Intake</th>\n",
       "      <th>Caffeine_mg</th>\n",
       "      <th>Sleep_Hours</th>\n",
       "      <th>Sleep_Quality</th>\n",
       "      <th>BMI</th>\n",
       "      <th>Heart_Rate</th>\n",
       "      <th>Stress_Level</th>\n",
       "      <th>Physical_Activity_Hours</th>\n",
       "      <th>Occupation</th>\n",
       "      <th>Smoking</th>\n",
       "      <th>Alcohol_Consumption</th>\n",
       "    </tr>\n",
       "    <tr>\n",
       "      <th>ID</th>\n",
       "      <th></th>\n",
       "      <th></th>\n",
       "      <th></th>\n",
       "      <th></th>\n",
       "      <th></th>\n",
       "      <th></th>\n",
       "      <th></th>\n",
       "      <th></th>\n",
       "      <th></th>\n",
       "      <th></th>\n",
       "      <th></th>\n",
       "      <th></th>\n",
       "      <th></th>\n",
       "      <th></th>\n",
       "    </tr>\n",
       "  </thead>\n",
       "  <tbody>\n",
       "    <tr>\n",
       "      <th>1</th>\n",
       "      <td>40</td>\n",
       "      <td>Male</td>\n",
       "      <td>Germany</td>\n",
       "      <td>3.5</td>\n",
       "      <td>328.1</td>\n",
       "      <td>7.5</td>\n",
       "      <td>Good</td>\n",
       "      <td>24.9</td>\n",
       "      <td>78</td>\n",
       "      <td>Low</td>\n",
       "      <td>14.5</td>\n",
       "      <td>Other</td>\n",
       "      <td>0</td>\n",
       "      <td>0</td>\n",
       "    </tr>\n",
       "    <tr>\n",
       "      <th>2</th>\n",
       "      <td>33</td>\n",
       "      <td>Male</td>\n",
       "      <td>Germany</td>\n",
       "      <td>1.0</td>\n",
       "      <td>94.1</td>\n",
       "      <td>6.2</td>\n",
       "      <td>Good</td>\n",
       "      <td>20.0</td>\n",
       "      <td>67</td>\n",
       "      <td>Low</td>\n",
       "      <td>11.0</td>\n",
       "      <td>Service</td>\n",
       "      <td>0</td>\n",
       "      <td>0</td>\n",
       "    </tr>\n",
       "    <tr>\n",
       "      <th>3</th>\n",
       "      <td>42</td>\n",
       "      <td>Male</td>\n",
       "      <td>Brazil</td>\n",
       "      <td>5.3</td>\n",
       "      <td>503.7</td>\n",
       "      <td>5.9</td>\n",
       "      <td>Fair</td>\n",
       "      <td>22.7</td>\n",
       "      <td>59</td>\n",
       "      <td>Medium</td>\n",
       "      <td>11.2</td>\n",
       "      <td>Office</td>\n",
       "      <td>0</td>\n",
       "      <td>0</td>\n",
       "    </tr>\n",
       "    <tr>\n",
       "      <th>4</th>\n",
       "      <td>53</td>\n",
       "      <td>Male</td>\n",
       "      <td>Germany</td>\n",
       "      <td>2.6</td>\n",
       "      <td>249.2</td>\n",
       "      <td>7.3</td>\n",
       "      <td>Good</td>\n",
       "      <td>24.7</td>\n",
       "      <td>71</td>\n",
       "      <td>Low</td>\n",
       "      <td>6.6</td>\n",
       "      <td>Other</td>\n",
       "      <td>0</td>\n",
       "      <td>0</td>\n",
       "    </tr>\n",
       "    <tr>\n",
       "      <th>5</th>\n",
       "      <td>32</td>\n",
       "      <td>Female</td>\n",
       "      <td>Spain</td>\n",
       "      <td>3.1</td>\n",
       "      <td>298.0</td>\n",
       "      <td>5.3</td>\n",
       "      <td>Fair</td>\n",
       "      <td>24.1</td>\n",
       "      <td>76</td>\n",
       "      <td>Medium</td>\n",
       "      <td>8.5</td>\n",
       "      <td>Student</td>\n",
       "      <td>0</td>\n",
       "      <td>1</td>\n",
       "    </tr>\n",
       "    <tr>\n",
       "      <th>...</th>\n",
       "      <td>...</td>\n",
       "      <td>...</td>\n",
       "      <td>...</td>\n",
       "      <td>...</td>\n",
       "      <td>...</td>\n",
       "      <td>...</td>\n",
       "      <td>...</td>\n",
       "      <td>...</td>\n",
       "      <td>...</td>\n",
       "      <td>...</td>\n",
       "      <td>...</td>\n",
       "      <td>...</td>\n",
       "      <td>...</td>\n",
       "      <td>...</td>\n",
       "    </tr>\n",
       "    <tr>\n",
       "      <th>9996</th>\n",
       "      <td>50</td>\n",
       "      <td>Female</td>\n",
       "      <td>Japan</td>\n",
       "      <td>2.1</td>\n",
       "      <td>199.8</td>\n",
       "      <td>6.0</td>\n",
       "      <td>Fair</td>\n",
       "      <td>30.5</td>\n",
       "      <td>50</td>\n",
       "      <td>Medium</td>\n",
       "      <td>10.1</td>\n",
       "      <td>Healthcare</td>\n",
       "      <td>0</td>\n",
       "      <td>1</td>\n",
       "    </tr>\n",
       "    <tr>\n",
       "      <th>9997</th>\n",
       "      <td>18</td>\n",
       "      <td>Female</td>\n",
       "      <td>UK</td>\n",
       "      <td>3.4</td>\n",
       "      <td>319.2</td>\n",
       "      <td>5.8</td>\n",
       "      <td>Fair</td>\n",
       "      <td>19.1</td>\n",
       "      <td>71</td>\n",
       "      <td>Medium</td>\n",
       "      <td>11.6</td>\n",
       "      <td>Service</td>\n",
       "      <td>0</td>\n",
       "      <td>0</td>\n",
       "    </tr>\n",
       "    <tr>\n",
       "      <th>9998</th>\n",
       "      <td>26</td>\n",
       "      <td>Male</td>\n",
       "      <td>China</td>\n",
       "      <td>1.6</td>\n",
       "      <td>153.4</td>\n",
       "      <td>7.1</td>\n",
       "      <td>Good</td>\n",
       "      <td>25.1</td>\n",
       "      <td>66</td>\n",
       "      <td>Low</td>\n",
       "      <td>13.7</td>\n",
       "      <td>Student</td>\n",
       "      <td>1</td>\n",
       "      <td>1</td>\n",
       "    </tr>\n",
       "    <tr>\n",
       "      <th>9999</th>\n",
       "      <td>40</td>\n",
       "      <td>Female</td>\n",
       "      <td>Finland</td>\n",
       "      <td>3.4</td>\n",
       "      <td>327.1</td>\n",
       "      <td>7.0</td>\n",
       "      <td>Good</td>\n",
       "      <td>19.3</td>\n",
       "      <td>80</td>\n",
       "      <td>Low</td>\n",
       "      <td>0.1</td>\n",
       "      <td>Student</td>\n",
       "      <td>0</td>\n",
       "      <td>0</td>\n",
       "    </tr>\n",
       "    <tr>\n",
       "      <th>10000</th>\n",
       "      <td>42</td>\n",
       "      <td>Female</td>\n",
       "      <td>Brazil</td>\n",
       "      <td>2.9</td>\n",
       "      <td>277.5</td>\n",
       "      <td>6.4</td>\n",
       "      <td>Good</td>\n",
       "      <td>28.1</td>\n",
       "      <td>72</td>\n",
       "      <td>Low</td>\n",
       "      <td>9.8</td>\n",
       "      <td>Student</td>\n",
       "      <td>1</td>\n",
       "      <td>0</td>\n",
       "    </tr>\n",
       "  </tbody>\n",
       "</table>\n",
       "<p>10000 rows × 14 columns</p>\n",
       "</div>"
      ],
      "text/plain": [
       "       Age  Gender  Country  Coffee_Intake  Caffeine_mg  Sleep_Hours  \\\n",
       "ID                                                                     \n",
       "1       40    Male  Germany            3.5        328.1          7.5   \n",
       "2       33    Male  Germany            1.0         94.1          6.2   \n",
       "3       42    Male   Brazil            5.3        503.7          5.9   \n",
       "4       53    Male  Germany            2.6        249.2          7.3   \n",
       "5       32  Female    Spain            3.1        298.0          5.3   \n",
       "...    ...     ...      ...            ...          ...          ...   \n",
       "9996    50  Female    Japan            2.1        199.8          6.0   \n",
       "9997    18  Female       UK            3.4        319.2          5.8   \n",
       "9998    26    Male    China            1.6        153.4          7.1   \n",
       "9999    40  Female  Finland            3.4        327.1          7.0   \n",
       "10000   42  Female   Brazil            2.9        277.5          6.4   \n",
       "\n",
       "      Sleep_Quality   BMI  Heart_Rate Stress_Level  Physical_Activity_Hours  \\\n",
       "ID                                                                            \n",
       "1              Good  24.9          78          Low                     14.5   \n",
       "2              Good  20.0          67          Low                     11.0   \n",
       "3              Fair  22.7          59       Medium                     11.2   \n",
       "4              Good  24.7          71          Low                      6.6   \n",
       "5              Fair  24.1          76       Medium                      8.5   \n",
       "...             ...   ...         ...          ...                      ...   \n",
       "9996           Fair  30.5          50       Medium                     10.1   \n",
       "9997           Fair  19.1          71       Medium                     11.6   \n",
       "9998           Good  25.1          66          Low                     13.7   \n",
       "9999           Good  19.3          80          Low                      0.1   \n",
       "10000          Good  28.1          72          Low                      9.8   \n",
       "\n",
       "       Occupation  Smoking  Alcohol_Consumption  \n",
       "ID                                               \n",
       "1           Other        0                    0  \n",
       "2         Service        0                    0  \n",
       "3          Office        0                    0  \n",
       "4           Other        0                    0  \n",
       "5         Student        0                    1  \n",
       "...           ...      ...                  ...  \n",
       "9996   Healthcare        0                    1  \n",
       "9997      Service        0                    0  \n",
       "9998      Student        1                    1  \n",
       "9999      Student        0                    0  \n",
       "10000     Student        1                    0  \n",
       "\n",
       "[10000 rows x 14 columns]"
      ]
     },
     "execution_count": 70,
     "metadata": {},
     "output_type": "execute_result"
    }
   ],
   "source": [
    "df.info()\n",
    "df"
   ]
  },
  {
   "cell_type": "code",
   "execution_count": 71,
   "id": "c9e8a5c3",
   "metadata": {},
   "outputs": [
    {
     "data": {
      "text/plain": [
       "Stress_Level\n",
       "Low       6989\n",
       "Medium    2050\n",
       "High       961\n",
       "Name: count, dtype: int64"
      ]
     },
     "execution_count": 71,
     "metadata": {},
     "output_type": "execute_result"
    }
   ],
   "source": [
    "df.Stress_Level.value_counts()"
   ]
  },
  {
   "cell_type": "code",
   "execution_count": 72,
   "id": "42dcce77",
   "metadata": {},
   "outputs": [
    {
     "data": {
      "text/html": [
       "<div>\n",
       "<style scoped>\n",
       "    .dataframe tbody tr th:only-of-type {\n",
       "        vertical-align: middle;\n",
       "    }\n",
       "\n",
       "    .dataframe tbody tr th {\n",
       "        vertical-align: top;\n",
       "    }\n",
       "\n",
       "    .dataframe thead th {\n",
       "        text-align: right;\n",
       "    }\n",
       "</style>\n",
       "<table border=\"1\" class=\"dataframe\">\n",
       "  <thead>\n",
       "    <tr style=\"text-align: right;\">\n",
       "      <th></th>\n",
       "      <th>Age</th>\n",
       "      <th>Gender</th>\n",
       "      <th>Country</th>\n",
       "      <th>Coffee_Intake</th>\n",
       "      <th>Caffeine_mg</th>\n",
       "      <th>Sleep_Hours</th>\n",
       "      <th>Sleep_Quality</th>\n",
       "      <th>BMI</th>\n",
       "      <th>Heart_Rate</th>\n",
       "      <th>Physical_Activity_Hours</th>\n",
       "      <th>Occupation</th>\n",
       "      <th>Smoking</th>\n",
       "      <th>Alcohol_Consumption</th>\n",
       "    </tr>\n",
       "    <tr>\n",
       "      <th>ID</th>\n",
       "      <th></th>\n",
       "      <th></th>\n",
       "      <th></th>\n",
       "      <th></th>\n",
       "      <th></th>\n",
       "      <th></th>\n",
       "      <th></th>\n",
       "      <th></th>\n",
       "      <th></th>\n",
       "      <th></th>\n",
       "      <th></th>\n",
       "      <th></th>\n",
       "      <th></th>\n",
       "    </tr>\n",
       "  </thead>\n",
       "  <tbody>\n",
       "    <tr>\n",
       "      <th>6190</th>\n",
       "      <td>50</td>\n",
       "      <td>Female</td>\n",
       "      <td>USA</td>\n",
       "      <td>2.2</td>\n",
       "      <td>205.2</td>\n",
       "      <td>6.0</td>\n",
       "      <td>Fair</td>\n",
       "      <td>21.5</td>\n",
       "      <td>55</td>\n",
       "      <td>10.7</td>\n",
       "      <td>Service</td>\n",
       "      <td>0</td>\n",
       "      <td>0</td>\n",
       "    </tr>\n",
       "    <tr>\n",
       "      <th>5050</th>\n",
       "      <td>32</td>\n",
       "      <td>Male</td>\n",
       "      <td>Italy</td>\n",
       "      <td>0.0</td>\n",
       "      <td>0.0</td>\n",
       "      <td>9.4</td>\n",
       "      <td>Excellent</td>\n",
       "      <td>16.4</td>\n",
       "      <td>81</td>\n",
       "      <td>7.0</td>\n",
       "      <td>Other</td>\n",
       "      <td>0</td>\n",
       "      <td>0</td>\n",
       "    </tr>\n",
       "    <tr>\n",
       "      <th>2574</th>\n",
       "      <td>34</td>\n",
       "      <td>Female</td>\n",
       "      <td>Brazil</td>\n",
       "      <td>1.4</td>\n",
       "      <td>134.5</td>\n",
       "      <td>6.8</td>\n",
       "      <td>Good</td>\n",
       "      <td>20.1</td>\n",
       "      <td>60</td>\n",
       "      <td>4.7</td>\n",
       "      <td>Student</td>\n",
       "      <td>0</td>\n",
       "      <td>0</td>\n",
       "    </tr>\n",
       "    <tr>\n",
       "      <th>1052</th>\n",
       "      <td>39</td>\n",
       "      <td>Male</td>\n",
       "      <td>Sweden</td>\n",
       "      <td>1.5</td>\n",
       "      <td>144.3</td>\n",
       "      <td>8.5</td>\n",
       "      <td>Excellent</td>\n",
       "      <td>17.2</td>\n",
       "      <td>66</td>\n",
       "      <td>1.6</td>\n",
       "      <td>Student</td>\n",
       "      <td>1</td>\n",
       "      <td>1</td>\n",
       "    </tr>\n",
       "    <tr>\n",
       "      <th>4400</th>\n",
       "      <td>46</td>\n",
       "      <td>Female</td>\n",
       "      <td>Switzerland</td>\n",
       "      <td>3.2</td>\n",
       "      <td>308.5</td>\n",
       "      <td>5.7</td>\n",
       "      <td>Fair</td>\n",
       "      <td>25.4</td>\n",
       "      <td>76</td>\n",
       "      <td>2.8</td>\n",
       "      <td>Student</td>\n",
       "      <td>0</td>\n",
       "      <td>0</td>\n",
       "    </tr>\n",
       "    <tr>\n",
       "      <th>...</th>\n",
       "      <td>...</td>\n",
       "      <td>...</td>\n",
       "      <td>...</td>\n",
       "      <td>...</td>\n",
       "      <td>...</td>\n",
       "      <td>...</td>\n",
       "      <td>...</td>\n",
       "      <td>...</td>\n",
       "      <td>...</td>\n",
       "      <td>...</td>\n",
       "      <td>...</td>\n",
       "      <td>...</td>\n",
       "      <td>...</td>\n",
       "    </tr>\n",
       "    <tr>\n",
       "      <th>8633</th>\n",
       "      <td>53</td>\n",
       "      <td>Female</td>\n",
       "      <td>India</td>\n",
       "      <td>1.7</td>\n",
       "      <td>157.0</td>\n",
       "      <td>6.0</td>\n",
       "      <td>Fair</td>\n",
       "      <td>28.2</td>\n",
       "      <td>81</td>\n",
       "      <td>10.3</td>\n",
       "      <td>Service</td>\n",
       "      <td>0</td>\n",
       "      <td>1</td>\n",
       "    </tr>\n",
       "    <tr>\n",
       "      <th>5394</th>\n",
       "      <td>36</td>\n",
       "      <td>Female</td>\n",
       "      <td>Australia</td>\n",
       "      <td>2.5</td>\n",
       "      <td>233.6</td>\n",
       "      <td>5.1</td>\n",
       "      <td>Fair</td>\n",
       "      <td>28.1</td>\n",
       "      <td>53</td>\n",
       "      <td>11.2</td>\n",
       "      <td>Healthcare</td>\n",
       "      <td>0</td>\n",
       "      <td>0</td>\n",
       "    </tr>\n",
       "    <tr>\n",
       "      <th>4971</th>\n",
       "      <td>53</td>\n",
       "      <td>Male</td>\n",
       "      <td>Belgium</td>\n",
       "      <td>4.0</td>\n",
       "      <td>376.2</td>\n",
       "      <td>5.8</td>\n",
       "      <td>Fair</td>\n",
       "      <td>21.5</td>\n",
       "      <td>68</td>\n",
       "      <td>11.8</td>\n",
       "      <td>Other</td>\n",
       "      <td>0</td>\n",
       "      <td>0</td>\n",
       "    </tr>\n",
       "    <tr>\n",
       "      <th>5561</th>\n",
       "      <td>22</td>\n",
       "      <td>Female</td>\n",
       "      <td>Netherlands</td>\n",
       "      <td>2.5</td>\n",
       "      <td>233.6</td>\n",
       "      <td>6.5</td>\n",
       "      <td>Good</td>\n",
       "      <td>31.4</td>\n",
       "      <td>65</td>\n",
       "      <td>14.5</td>\n",
       "      <td>Service</td>\n",
       "      <td>0</td>\n",
       "      <td>1</td>\n",
       "    </tr>\n",
       "    <tr>\n",
       "      <th>4281</th>\n",
       "      <td>60</td>\n",
       "      <td>Male</td>\n",
       "      <td>France</td>\n",
       "      <td>1.8</td>\n",
       "      <td>167.5</td>\n",
       "      <td>7.0</td>\n",
       "      <td>Good</td>\n",
       "      <td>24.1</td>\n",
       "      <td>70</td>\n",
       "      <td>9.5</td>\n",
       "      <td>Other</td>\n",
       "      <td>1</td>\n",
       "      <td>0</td>\n",
       "    </tr>\n",
       "  </tbody>\n",
       "</table>\n",
       "<p>8000 rows × 13 columns</p>\n",
       "</div>"
      ],
      "text/plain": [
       "      Age  Gender      Country  Coffee_Intake  Caffeine_mg  Sleep_Hours  \\\n",
       "ID                                                                        \n",
       "6190   50  Female          USA            2.2        205.2          6.0   \n",
       "5050   32    Male        Italy            0.0          0.0          9.4   \n",
       "2574   34  Female       Brazil            1.4        134.5          6.8   \n",
       "1052   39    Male       Sweden            1.5        144.3          8.5   \n",
       "4400   46  Female  Switzerland            3.2        308.5          5.7   \n",
       "...   ...     ...          ...            ...          ...          ...   \n",
       "8633   53  Female        India            1.7        157.0          6.0   \n",
       "5394   36  Female    Australia            2.5        233.6          5.1   \n",
       "4971   53    Male      Belgium            4.0        376.2          5.8   \n",
       "5561   22  Female  Netherlands            2.5        233.6          6.5   \n",
       "4281   60    Male       France            1.8        167.5          7.0   \n",
       "\n",
       "     Sleep_Quality   BMI  Heart_Rate  Physical_Activity_Hours  Occupation  \\\n",
       "ID                                                                          \n",
       "6190          Fair  21.5          55                     10.7     Service   \n",
       "5050     Excellent  16.4          81                      7.0       Other   \n",
       "2574          Good  20.1          60                      4.7     Student   \n",
       "1052     Excellent  17.2          66                      1.6     Student   \n",
       "4400          Fair  25.4          76                      2.8     Student   \n",
       "...            ...   ...         ...                      ...         ...   \n",
       "8633          Fair  28.2          81                     10.3     Service   \n",
       "5394          Fair  28.1          53                     11.2  Healthcare   \n",
       "4971          Fair  21.5          68                     11.8       Other   \n",
       "5561          Good  31.4          65                     14.5     Service   \n",
       "4281          Good  24.1          70                      9.5       Other   \n",
       "\n",
       "      Smoking  Alcohol_Consumption  \n",
       "ID                                  \n",
       "6190        0                    0  \n",
       "5050        0                    0  \n",
       "2574        0                    0  \n",
       "1052        1                    1  \n",
       "4400        0                    0  \n",
       "...       ...                  ...  \n",
       "8633        0                    1  \n",
       "5394        0                    0  \n",
       "4971        0                    0  \n",
       "5561        0                    1  \n",
       "4281        1                    0  \n",
       "\n",
       "[8000 rows x 13 columns]"
      ]
     },
     "execution_count": 72,
     "metadata": {},
     "output_type": "execute_result"
    }
   ],
   "source": [
    "X = df.drop(columns=['Stress_Level'], axis=1)\n",
    "y = df['Stress_Level']\n",
    "\n",
    "X_train, X_val, y_train, y_val = train_test_split(X, y, test_size=0.2, random_state=42, stratify=y)\n",
    "X_train"
   ]
  },
  {
   "cell_type": "code",
   "execution_count": 73,
   "id": "3139d233",
   "metadata": {},
   "outputs": [
    {
     "data": {
      "text/plain": [
       "(Index(['Age', 'Coffee_Intake', 'Caffeine_mg', 'Sleep_Hours', 'BMI',\n",
       "        'Heart_Rate', 'Physical_Activity_Hours', 'Smoking',\n",
       "        'Alcohol_Consumption'],\n",
       "       dtype='object'),\n",
       " Index(['Gender', 'Country', 'Sleep_Quality', 'Occupation'], dtype='object'))"
      ]
     },
     "execution_count": 73,
     "metadata": {},
     "output_type": "execute_result"
    }
   ],
   "source": [
    "num = X.select_dtypes(include=['int64', 'float64']).columns\n",
    "cat = X.select_dtypes(include=['object', 'category']).columns\n",
    "num, cat"
   ]
  },
  {
   "cell_type": "code",
   "execution_count": 74,
   "id": "c3bbc9c8",
   "metadata": {},
   "outputs": [],
   "source": [
    "num_pipe = Pipeline(steps=[\n",
    "    ('imputer', SimpleImputer(strategy='median')),\n",
    "    # ('poly', PolynomialFeatures(degree=1, include_bias=False)),\n",
    "    ('power', PowerTransformer(method='yeo-johnson')),\n",
    "    ('scaler', StandardScaler())\n",
    "])\n",
    "cat_pipe = Pipeline(steps=[\n",
    "    ('imputer', SimpleImputer(strategy='most_frequent')),\n",
    "    ('onehot', OneHotEncoder(handle_unknown='ignore'))\n",
    "])\n",
    "preprocessor = ColumnTransformer(transformers=[\n",
    "    ('num', num_pipe, X_train.select_dtypes(include=['int64', 'float64']).columns),\n",
    "    ('cat', cat_pipe, X_train.select_dtypes(include=['object', 'category']).columns)\n",
    "])"
   ]
  },
  {
   "cell_type": "code",
   "execution_count": 75,
   "id": "113daee9",
   "metadata": {},
   "outputs": [],
   "source": [
    "X_train = preprocessor.fit_transform(X_train)\n",
    "X_val = preprocessor.transform(X_val)\n"
   ]
  },
  {
   "cell_type": "code",
   "execution_count": 76,
   "id": "17f877fa",
   "metadata": {},
   "outputs": [
    {
     "data": {
      "text/plain": [
       "(array([1, 0, 0, ..., 1, 0, 0], dtype=int64),\n",
       " array([0, 2, 0, ..., 0, 2, 1], dtype=int64))"
      ]
     },
     "execution_count": 76,
     "metadata": {},
     "output_type": "execute_result"
    }
   ],
   "source": [
    "map = lambda s: {'Low': 0, 'Medium': 1, 'High': 2}[s]\n",
    "y_train = y_train.map(map).values\n",
    "y_val = y_val.map(map).values\n",
    "y_train, y_val"
   ]
  },
  {
   "cell_type": "markdown",
   "id": "0314b1ef",
   "metadata": {},
   "source": [
    "# Dataset and Dataloader"
   ]
  },
  {
   "cell_type": "code",
   "execution_count": 77,
   "id": "449fd2ea",
   "metadata": {},
   "outputs": [],
   "source": [
    "X_train = torch.tensor(X_train, dtype=torch.float32)\n",
    "y_train = torch.tensor(y_train, dtype=torch.long)\n",
    "X_val = torch.tensor(X_val, dtype=torch.float32)\n",
    "y_val = torch.tensor(y_val, dtype=torch.long)"
   ]
  },
  {
   "cell_type": "code",
   "execution_count": 78,
   "id": "b5af660e",
   "metadata": {},
   "outputs": [],
   "source": [
    "train_set = TensorDataset(X_train, y_train)\n",
    "val_set = TensorDataset(X_val, y_val)\n",
    "\n",
    "train_loader = DataLoader(train_set, batch_size=32, shuffle=True)\n",
    "val_loader = DataLoader(val_set, batch_size=32)"
   ]
  },
  {
   "cell_type": "code",
   "execution_count": 79,
   "id": "e9d77b7c",
   "metadata": {},
   "outputs": [
    {
     "name": "stdout",
     "output_type": "stream",
     "text": [
      "torch.Size([32, 41]) torch.Size([32])\n"
     ]
    }
   ],
   "source": [
    "feature, target = next(iter(train_loader))\n",
    "print(feature.shape, target.shape)"
   ]
  },
  {
   "cell_type": "markdown",
   "id": "ab5a8d28",
   "metadata": {},
   "source": [
    "# NN"
   ]
  },
  {
   "cell_type": "code",
   "execution_count": 80,
   "id": "9387b157",
   "metadata": {},
   "outputs": [],
   "source": [
    "class NN(nn.Module):\n",
    "    def __init__(self, input_size) -> None:\n",
    "        super().__init__()\n",
    "\n",
    "        self.fc = nn.Sequential(\n",
    "            nn.Linear(input_size, 128),\n",
    "            nn.Mish(),\n",
    "\n",
    "            nn.Linear(128, 64),\n",
    "            nn.BatchNorm1d(64),\n",
    "            nn.Mish(),\n",
    "            nn.Dropout(0.2),\n",
    "\n",
    "            nn.Linear(64, 32),\n",
    "            nn.BatchNorm1d(32),\n",
    "            nn.Mish(),\n",
    "            nn.Dropout(0.2),\n",
    "\n",
    "            nn.Linear(32, 16),\n",
    "            nn.BatchNorm1d(16),\n",
    "            nn.Mish(),\n",
    "            nn.Dropout(0.2),\n",
    "\n",
    "            nn.Linear(16, 8),\n",
    "            nn.BatchNorm1d(8),\n",
    "            nn.Mish(),\n",
    "            nn.Dropout(0.2),\n",
    "\n",
    "            nn.Linear(8, 3)\n",
    "        )\n",
    "\n",
    "    def forward(self, X):\n",
    "        return self.fc(X)"
   ]
  },
  {
   "cell_type": "code",
   "execution_count": 81,
   "id": "2743fe81",
   "metadata": {},
   "outputs": [],
   "source": [
    "class PLNN(LightningModule):\n",
    "    def __init__(self, input_size, num_classes=4, learning_rate=1e-3):\n",
    "        super().__init__()\n",
    "        self.save_hyperparameters() \n",
    "        self.model = NN(input_size=input_size)\n",
    "        self.criterion = nn.CrossEntropyLoss()\n",
    "        self.kappa = MulticlassCohenKappa(num_classes=num_classes, weights='quadratic')\n",
    "        self.f1 = F1Score(task='multiclass', num_classes=num_classes, average='weighted')\n",
    "        self.accurasy = Accuracy(task='multiclass', num_classes=num_classes)\n",
    "    def forward(self, x):\n",
    "        return self.model(x)\n",
    "\n",
    "    def training_step(self, batch, batch_idx):\n",
    "        inputs, labels = batch\n",
    "        outputs = self(inputs) \n",
    "        loss = self.criterion(outputs, labels)\n",
    "        acc = self.accurasy(outputs, labels)\n",
    "        f1 = self.accurasy(outputs, labels)\n",
    "        kappa = self.accurasy(outputs, labels)\n",
    "\n",
    "        \n",
    "        self.log('train_loss', loss, on_epoch=True, prog_bar=True)\n",
    "        self.log('train_f1', f1, on_epoch=True, prog_bar=True)\n",
    "        self.log('train_acc', acc, on_epoch=True, prog_bar=True)\n",
    "        self.log('train_kappa', kappa, on_epoch=True, prog_bar=True)\n",
    "        return loss\n",
    "\n",
    "    def validation_step(self, batch, batch_idx):\n",
    "        inputs, labels = batch\n",
    "        outputs = self(inputs)\n",
    "        loss = self.criterion(outputs, labels)\n",
    "        acc = self.accurasy(outputs, labels)\n",
    "        f1 = self.accurasy(outputs, labels)\n",
    "        kappa = self.accurasy(outputs, labels)\n",
    "\n",
    "\n",
    "        self.log('val_loss', loss, on_epoch=True, prog_bar=True)\n",
    "        self.log('val_f1', f1, on_epoch=True, prog_bar=True)\n",
    "        self.log('val_acc', acc, on_epoch=True, prog_bar=True)\n",
    "        self.log('val_kappa', kappa, on_epoch=True, prog_bar=True)\n",
    "\n",
    "    def configure_optimizers(self):\n",
    "        optimizer = optim1.AdamW(self.parameters(), lr=self.hparams.learning_rate)\n",
    "        return optimizer"
   ]
  },
  {
   "cell_type": "markdown",
   "id": "ce438046",
   "metadata": {},
   "source": [
    "# Config"
   ]
  },
  {
   "cell_type": "code",
   "execution_count": 82,
   "id": "886f880b",
   "metadata": {},
   "outputs": [
    {
     "name": "stderr",
     "output_type": "stream",
     "text": [
      "GPU available: False, used: False\n",
      "TPU available: False, using: 0 TPU cores\n",
      "HPU available: False, using: 0 HPUs\n"
     ]
    }
   ],
   "source": [
    "if torch.cuda.is_available():\n",
    "    accelerator_type = 'gpu'\n",
    "    devices_to_use = 1\n",
    "else:\n",
    "    accelerator_type = 'cpu'\n",
    "    devices_to_use = 'auto'\n",
    "\n",
    "checkpoint_callback = ModelCheckpoint(\n",
    "    monitor='val_loss',\n",
    "    dirpath='checkpoints_Strees_level/',\n",
    "    filename='bodyP-{epoch:02d}-{val_loss:.2f}',\n",
    "    save_top_k=1,\n",
    "    mode='min'\n",
    ")\n",
    "early_stopping = EarlyStopping(\n",
    "    monitor='val_loss',\n",
    "    patience=10,\n",
    "    mode='min',\n",
    ")\n",
    "lr_monitor_callback = LearningRateMonitor(logging_interval='epoch')\n",
    "\n",
    "trainer1 = pl.Trainer(\n",
    "    max_epochs=300,\n",
    "    callbacks=[checkpoint_callback, early_stopping, lr_monitor_callback],\n",
    "    logger=TensorBoardLogger(\"tb_logs_Stress_level\", name=\"simple_model_experiment\"),\n",
    "    accelerator=accelerator_type,\n",
    "    devices=devices_to_use,\n",
    "    log_every_n_steps=10,\n",
    "    deterministic=True\n",
    ")"
   ]
  },
  {
   "cell_type": "markdown",
   "id": "13d5d02b",
   "metadata": {},
   "source": [
    "# train"
   ]
  },
  {
   "cell_type": "code",
   "execution_count": 83,
   "id": "de807484",
   "metadata": {},
   "outputs": [
    {
     "name": "stderr",
     "output_type": "stream",
     "text": [
      "\n",
      "  | Name      | Type                 | Params | Mode \n",
      "-----------------------------------------------------------\n",
      "0 | model     | NN                   | 16.6 K | train\n",
      "1 | criterion | CrossEntropyLoss     | 0      | train\n",
      "2 | kappa     | MulticlassCohenKappa | 0      | train\n",
      "3 | f1        | MulticlassF1Score    | 0      | train\n",
      "4 | accurasy  | MulticlassAccuracy   | 0      | train\n",
      "-----------------------------------------------------------\n",
      "16.6 K    Trainable params\n",
      "0         Non-trainable params\n",
      "16.6 K    Total params\n",
      "0.067     Total estimated model params size (MB)\n",
      "25        Modules in train mode\n",
      "0         Modules in eval mode\n"
     ]
    },
    {
     "data": {
      "application/vnd.jupyter.widget-view+json": {
       "model_id": "c9536ce3d46744aa8eb361a288495c7c",
       "version_major": 2,
       "version_minor": 0
      },
      "text/plain": [
       "Sanity Checking: |          | 0/? [00:00<?, ?it/s]"
      ]
     },
     "metadata": {},
     "output_type": "display_data"
    },
    {
     "data": {
      "application/vnd.jupyter.widget-view+json": {
       "model_id": "690bdc2187984b0087adc4b452ff724c",
       "version_major": 2,
       "version_minor": 0
      },
      "text/plain": [
       "Training: |          | 0/? [00:00<?, ?it/s]"
      ]
     },
     "metadata": {},
     "output_type": "display_data"
    },
    {
     "data": {
      "application/vnd.jupyter.widget-view+json": {
       "model_id": "9bb886f1832549718c4a1bc3607d5054",
       "version_major": 2,
       "version_minor": 0
      },
      "text/plain": [
       "Validation: |          | 0/? [00:00<?, ?it/s]"
      ]
     },
     "metadata": {},
     "output_type": "display_data"
    },
    {
     "data": {
      "application/vnd.jupyter.widget-view+json": {
       "model_id": "a49f7ebd72be43d4b68acac4763ee776",
       "version_major": 2,
       "version_minor": 0
      },
      "text/plain": [
       "Validation: |          | 0/? [00:00<?, ?it/s]"
      ]
     },
     "metadata": {},
     "output_type": "display_data"
    },
    {
     "data": {
      "application/vnd.jupyter.widget-view+json": {
       "model_id": "2497b70709374ae7943cf33db99cba05",
       "version_major": 2,
       "version_minor": 0
      },
      "text/plain": [
       "Validation: |          | 0/? [00:00<?, ?it/s]"
      ]
     },
     "metadata": {},
     "output_type": "display_data"
    },
    {
     "data": {
      "application/vnd.jupyter.widget-view+json": {
       "model_id": "61c69cd2b6394223ac4bab0efa6a0fae",
       "version_major": 2,
       "version_minor": 0
      },
      "text/plain": [
       "Validation: |          | 0/? [00:00<?, ?it/s]"
      ]
     },
     "metadata": {},
     "output_type": "display_data"
    },
    {
     "data": {
      "application/vnd.jupyter.widget-view+json": {
       "model_id": "4a2467c5abe347a7978f55ccce9b1024",
       "version_major": 2,
       "version_minor": 0
      },
      "text/plain": [
       "Validation: |          | 0/? [00:00<?, ?it/s]"
      ]
     },
     "metadata": {},
     "output_type": "display_data"
    },
    {
     "data": {
      "application/vnd.jupyter.widget-view+json": {
       "model_id": "a99ee3d7da60457f825547e9bbb3240d",
       "version_major": 2,
       "version_minor": 0
      },
      "text/plain": [
       "Validation: |          | 0/? [00:00<?, ?it/s]"
      ]
     },
     "metadata": {},
     "output_type": "display_data"
    },
    {
     "data": {
      "application/vnd.jupyter.widget-view+json": {
       "model_id": "dc4550bbadee4d1ba505c11f2877c53b",
       "version_major": 2,
       "version_minor": 0
      },
      "text/plain": [
       "Validation: |          | 0/? [00:00<?, ?it/s]"
      ]
     },
     "metadata": {},
     "output_type": "display_data"
    },
    {
     "data": {
      "application/vnd.jupyter.widget-view+json": {
       "model_id": "684f444aabff442180c30c867f9f645e",
       "version_major": 2,
       "version_minor": 0
      },
      "text/plain": [
       "Validation: |          | 0/? [00:00<?, ?it/s]"
      ]
     },
     "metadata": {},
     "output_type": "display_data"
    },
    {
     "data": {
      "application/vnd.jupyter.widget-view+json": {
       "model_id": "601234a3b18843beba5c9a8a2b87ad84",
       "version_major": 2,
       "version_minor": 0
      },
      "text/plain": [
       "Validation: |          | 0/? [00:00<?, ?it/s]"
      ]
     },
     "metadata": {},
     "output_type": "display_data"
    },
    {
     "data": {
      "application/vnd.jupyter.widget-view+json": {
       "model_id": "61bfdc2089d34e3f81835ddf0e6cbe76",
       "version_major": 2,
       "version_minor": 0
      },
      "text/plain": [
       "Validation: |          | 0/? [00:00<?, ?it/s]"
      ]
     },
     "metadata": {},
     "output_type": "display_data"
    },
    {
     "data": {
      "application/vnd.jupyter.widget-view+json": {
       "model_id": "1b8ecae4f3fb4735b1af1f1647f06df4",
       "version_major": 2,
       "version_minor": 0
      },
      "text/plain": [
       "Validation: |          | 0/? [00:00<?, ?it/s]"
      ]
     },
     "metadata": {},
     "output_type": "display_data"
    },
    {
     "data": {
      "application/vnd.jupyter.widget-view+json": {
       "model_id": "ef67e99fb0934ffd9db91d8787de61ee",
       "version_major": 2,
       "version_minor": 0
      },
      "text/plain": [
       "Validation: |          | 0/? [00:00<?, ?it/s]"
      ]
     },
     "metadata": {},
     "output_type": "display_data"
    },
    {
     "data": {
      "application/vnd.jupyter.widget-view+json": {
       "model_id": "df8638fc2c7f4bd4910658f233bf5617",
       "version_major": 2,
       "version_minor": 0
      },
      "text/plain": [
       "Validation: |          | 0/? [00:00<?, ?it/s]"
      ]
     },
     "metadata": {},
     "output_type": "display_data"
    },
    {
     "data": {
      "application/vnd.jupyter.widget-view+json": {
       "model_id": "8759e592fdd24d0aba5fe1904b14cd50",
       "version_major": 2,
       "version_minor": 0
      },
      "text/plain": [
       "Validation: |          | 0/? [00:00<?, ?it/s]"
      ]
     },
     "metadata": {},
     "output_type": "display_data"
    },
    {
     "data": {
      "application/vnd.jupyter.widget-view+json": {
       "model_id": "84caa0a0f5a343dda3b55e61c0e1351b",
       "version_major": 2,
       "version_minor": 0
      },
      "text/plain": [
       "Validation: |          | 0/? [00:00<?, ?it/s]"
      ]
     },
     "metadata": {},
     "output_type": "display_data"
    },
    {
     "data": {
      "application/vnd.jupyter.widget-view+json": {
       "model_id": "96a2a0166ac946018cf8b562238aa610",
       "version_major": 2,
       "version_minor": 0
      },
      "text/plain": [
       "Validation: |          | 0/? [00:00<?, ?it/s]"
      ]
     },
     "metadata": {},
     "output_type": "display_data"
    },
    {
     "data": {
      "application/vnd.jupyter.widget-view+json": {
       "model_id": "da0b2c92e6a9438392c5132090bd1be2",
       "version_major": 2,
       "version_minor": 0
      },
      "text/plain": [
       "Validation: |          | 0/? [00:00<?, ?it/s]"
      ]
     },
     "metadata": {},
     "output_type": "display_data"
    },
    {
     "data": {
      "application/vnd.jupyter.widget-view+json": {
       "model_id": "406037c57fb04d2bb66440a81b3838fe",
       "version_major": 2,
       "version_minor": 0
      },
      "text/plain": [
       "Validation: |          | 0/? [00:00<?, ?it/s]"
      ]
     },
     "metadata": {},
     "output_type": "display_data"
    },
    {
     "data": {
      "application/vnd.jupyter.widget-view+json": {
       "model_id": "c623c1667b1d457abf0458f1ba403a16",
       "version_major": 2,
       "version_minor": 0
      },
      "text/plain": [
       "Validation: |          | 0/? [00:00<?, ?it/s]"
      ]
     },
     "metadata": {},
     "output_type": "display_data"
    },
    {
     "data": {
      "application/vnd.jupyter.widget-view+json": {
       "model_id": "3ec627f7c9dc4364970f533475bb4658",
       "version_major": 2,
       "version_minor": 0
      },
      "text/plain": [
       "Validation: |          | 0/? [00:00<?, ?it/s]"
      ]
     },
     "metadata": {},
     "output_type": "display_data"
    },
    {
     "data": {
      "application/vnd.jupyter.widget-view+json": {
       "model_id": "c896ecc9533f44c1a81366a79cad1a74",
       "version_major": 2,
       "version_minor": 0
      },
      "text/plain": [
       "Validation: |          | 0/? [00:00<?, ?it/s]"
      ]
     },
     "metadata": {},
     "output_type": "display_data"
    },
    {
     "data": {
      "application/vnd.jupyter.widget-view+json": {
       "model_id": "4277b4b6b6174ff58de4694e88052c57",
       "version_major": 2,
       "version_minor": 0
      },
      "text/plain": [
       "Validation: |          | 0/? [00:00<?, ?it/s]"
      ]
     },
     "metadata": {},
     "output_type": "display_data"
    },
    {
     "data": {
      "application/vnd.jupyter.widget-view+json": {
       "model_id": "070259fb7d014917b0b10424fd043d22",
       "version_major": 2,
       "version_minor": 0
      },
      "text/plain": [
       "Validation: |          | 0/? [00:00<?, ?it/s]"
      ]
     },
     "metadata": {},
     "output_type": "display_data"
    },
    {
     "data": {
      "application/vnd.jupyter.widget-view+json": {
       "model_id": "43c8d6daf7e34cb2bee57cce25eb7912",
       "version_major": 2,
       "version_minor": 0
      },
      "text/plain": [
       "Validation: |          | 0/? [00:00<?, ?it/s]"
      ]
     },
     "metadata": {},
     "output_type": "display_data"
    },
    {
     "data": {
      "application/vnd.jupyter.widget-view+json": {
       "model_id": "4b430a0e2943442d9b119855bceb8f8d",
       "version_major": 2,
       "version_minor": 0
      },
      "text/plain": [
       "Validation: |          | 0/? [00:00<?, ?it/s]"
      ]
     },
     "metadata": {},
     "output_type": "display_data"
    },
    {
     "data": {
      "application/vnd.jupyter.widget-view+json": {
       "model_id": "ad7b5aa4f5d047f8b18ff3d21fc19114",
       "version_major": 2,
       "version_minor": 0
      },
      "text/plain": [
       "Validation: |          | 0/? [00:00<?, ?it/s]"
      ]
     },
     "metadata": {},
     "output_type": "display_data"
    },
    {
     "data": {
      "application/vnd.jupyter.widget-view+json": {
       "model_id": "08a3b950a1e44bf7994fe3224ffb6f39",
       "version_major": 2,
       "version_minor": 0
      },
      "text/plain": [
       "Validation: |          | 0/? [00:00<?, ?it/s]"
      ]
     },
     "metadata": {},
     "output_type": "display_data"
    },
    {
     "data": {
      "application/vnd.jupyter.widget-view+json": {
       "model_id": "33b9f64843f04917b2b976729200aaf9",
       "version_major": 2,
       "version_minor": 0
      },
      "text/plain": [
       "Validation: |          | 0/? [00:00<?, ?it/s]"
      ]
     },
     "metadata": {},
     "output_type": "display_data"
    },
    {
     "data": {
      "application/vnd.jupyter.widget-view+json": {
       "model_id": "b20ef614462242f98bd8c545d2d90cff",
       "version_major": 2,
       "version_minor": 0
      },
      "text/plain": [
       "Validation: |          | 0/? [00:00<?, ?it/s]"
      ]
     },
     "metadata": {},
     "output_type": "display_data"
    },
    {
     "data": {
      "application/vnd.jupyter.widget-view+json": {
       "model_id": "9b4a4caf0d2f45caadfb5f643fabd7bf",
       "version_major": 2,
       "version_minor": 0
      },
      "text/plain": [
       "Validation: |          | 0/? [00:00<?, ?it/s]"
      ]
     },
     "metadata": {},
     "output_type": "display_data"
    },
    {
     "data": {
      "application/vnd.jupyter.widget-view+json": {
       "model_id": "12295e2c00dd4bc0be2732d9c34d7999",
       "version_major": 2,
       "version_minor": 0
      },
      "text/plain": [
       "Validation: |          | 0/? [00:00<?, ?it/s]"
      ]
     },
     "metadata": {},
     "output_type": "display_data"
    },
    {
     "data": {
      "application/vnd.jupyter.widget-view+json": {
       "model_id": "38f724db301848ea967f15873d905b94",
       "version_major": 2,
       "version_minor": 0
      },
      "text/plain": [
       "Validation: |          | 0/? [00:00<?, ?it/s]"
      ]
     },
     "metadata": {},
     "output_type": "display_data"
    },
    {
     "data": {
      "application/vnd.jupyter.widget-view+json": {
       "model_id": "6928b9e3980247a18d363e0b76cb7b1f",
       "version_major": 2,
       "version_minor": 0
      },
      "text/plain": [
       "Validation: |          | 0/? [00:00<?, ?it/s]"
      ]
     },
     "metadata": {},
     "output_type": "display_data"
    },
    {
     "data": {
      "application/vnd.jupyter.widget-view+json": {
       "model_id": "ac284e0a7bee44c1aad38838cce69280",
       "version_major": 2,
       "version_minor": 0
      },
      "text/plain": [
       "Validation: |          | 0/? [00:00<?, ?it/s]"
      ]
     },
     "metadata": {},
     "output_type": "display_data"
    },
    {
     "data": {
      "application/vnd.jupyter.widget-view+json": {
       "model_id": "1964f83c69cd42ae8b64b2b0149fa7c3",
       "version_major": 2,
       "version_minor": 0
      },
      "text/plain": [
       "Validation: |          | 0/? [00:00<?, ?it/s]"
      ]
     },
     "metadata": {},
     "output_type": "display_data"
    },
    {
     "data": {
      "application/vnd.jupyter.widget-view+json": {
       "model_id": "710ee12ed94849f1b977c540f225cabc",
       "version_major": 2,
       "version_minor": 0
      },
      "text/plain": [
       "Validation: |          | 0/? [00:00<?, ?it/s]"
      ]
     },
     "metadata": {},
     "output_type": "display_data"
    },
    {
     "data": {
      "application/vnd.jupyter.widget-view+json": {
       "model_id": "ec4ad8c95cc14fa3ac3c44dbfc8bee26",
       "version_major": 2,
       "version_minor": 0
      },
      "text/plain": [
       "Validation: |          | 0/? [00:00<?, ?it/s]"
      ]
     },
     "metadata": {},
     "output_type": "display_data"
    },
    {
     "data": {
      "application/vnd.jupyter.widget-view+json": {
       "model_id": "482df514b2e94cf1875f2d1f10181c2b",
       "version_major": 2,
       "version_minor": 0
      },
      "text/plain": [
       "Validation: |          | 0/? [00:00<?, ?it/s]"
      ]
     },
     "metadata": {},
     "output_type": "display_data"
    },
    {
     "data": {
      "application/vnd.jupyter.widget-view+json": {
       "model_id": "1a659dcbc06d49b880fc26bf99cce155",
       "version_major": 2,
       "version_minor": 0
      },
      "text/plain": [
       "Validation: |          | 0/? [00:00<?, ?it/s]"
      ]
     },
     "metadata": {},
     "output_type": "display_data"
    },
    {
     "data": {
      "application/vnd.jupyter.widget-view+json": {
       "model_id": "12d1ee44e6be45dab71dbf8e0440caaa",
       "version_major": 2,
       "version_minor": 0
      },
      "text/plain": [
       "Validation: |          | 0/? [00:00<?, ?it/s]"
      ]
     },
     "metadata": {},
     "output_type": "display_data"
    },
    {
     "data": {
      "application/vnd.jupyter.widget-view+json": {
       "model_id": "98ef53beabd242c38e79835b4b4f229b",
       "version_major": 2,
       "version_minor": 0
      },
      "text/plain": [
       "Validation: |          | 0/? [00:00<?, ?it/s]"
      ]
     },
     "metadata": {},
     "output_type": "display_data"
    },
    {
     "data": {
      "application/vnd.jupyter.widget-view+json": {
       "model_id": "0ad6603ce0a345e28d5f791cd00ae389",
       "version_major": 2,
       "version_minor": 0
      },
      "text/plain": [
       "Validation: |          | 0/? [00:00<?, ?it/s]"
      ]
     },
     "metadata": {},
     "output_type": "display_data"
    },
    {
     "data": {
      "application/vnd.jupyter.widget-view+json": {
       "model_id": "531e128ade084c64a5eb659b12ab7e70",
       "version_major": 2,
       "version_minor": 0
      },
      "text/plain": [
       "Validation: |          | 0/? [00:00<?, ?it/s]"
      ]
     },
     "metadata": {},
     "output_type": "display_data"
    },
    {
     "data": {
      "application/vnd.jupyter.widget-view+json": {
       "model_id": "eba266eeedd84a73b307b758d45a1043",
       "version_major": 2,
       "version_minor": 0
      },
      "text/plain": [
       "Validation: |          | 0/? [00:00<?, ?it/s]"
      ]
     },
     "metadata": {},
     "output_type": "display_data"
    },
    {
     "data": {
      "application/vnd.jupyter.widget-view+json": {
       "model_id": "e785ce006a404e7d9a0f252eefcdc16c",
       "version_major": 2,
       "version_minor": 0
      },
      "text/plain": [
       "Validation: |          | 0/? [00:00<?, ?it/s]"
      ]
     },
     "metadata": {},
     "output_type": "display_data"
    },
    {
     "data": {
      "application/vnd.jupyter.widget-view+json": {
       "model_id": "7bb71f70c9834061a6c36582c28e5b11",
       "version_major": 2,
       "version_minor": 0
      },
      "text/plain": [
       "Validation: |          | 0/? [00:00<?, ?it/s]"
      ]
     },
     "metadata": {},
     "output_type": "display_data"
    },
    {
     "data": {
      "application/vnd.jupyter.widget-view+json": {
       "model_id": "249efd3f7730421bbbc1ddfb88d4fba7",
       "version_major": 2,
       "version_minor": 0
      },
      "text/plain": [
       "Validation: |          | 0/? [00:00<?, ?it/s]"
      ]
     },
     "metadata": {},
     "output_type": "display_data"
    },
    {
     "data": {
      "application/vnd.jupyter.widget-view+json": {
       "model_id": "1be90f29f4cc495c9fef346856dc9869",
       "version_major": 2,
       "version_minor": 0
      },
      "text/plain": [
       "Validation: |          | 0/? [00:00<?, ?it/s]"
      ]
     },
     "metadata": {},
     "output_type": "display_data"
    },
    {
     "data": {
      "application/vnd.jupyter.widget-view+json": {
       "model_id": "3845494fe2d64e999659b32d893222eb",
       "version_major": 2,
       "version_minor": 0
      },
      "text/plain": [
       "Validation: |          | 0/? [00:00<?, ?it/s]"
      ]
     },
     "metadata": {},
     "output_type": "display_data"
    },
    {
     "data": {
      "application/vnd.jupyter.widget-view+json": {
       "model_id": "7b85af26ad614571b1a97f0917c40a20",
       "version_major": 2,
       "version_minor": 0
      },
      "text/plain": [
       "Validation: |          | 0/? [00:00<?, ?it/s]"
      ]
     },
     "metadata": {},
     "output_type": "display_data"
    },
    {
     "data": {
      "application/vnd.jupyter.widget-view+json": {
       "model_id": "443636fd0cb9402c9b66e701c37fa6ce",
       "version_major": 2,
       "version_minor": 0
      },
      "text/plain": [
       "Validation: |          | 0/? [00:00<?, ?it/s]"
      ]
     },
     "metadata": {},
     "output_type": "display_data"
    },
    {
     "data": {
      "application/vnd.jupyter.widget-view+json": {
       "model_id": "dc34d8be37214849b1affe3c15b44f6f",
       "version_major": 2,
       "version_minor": 0
      },
      "text/plain": [
       "Validation: |          | 0/? [00:00<?, ?it/s]"
      ]
     },
     "metadata": {},
     "output_type": "display_data"
    },
    {
     "data": {
      "application/vnd.jupyter.widget-view+json": {
       "model_id": "1661f29fb9dd43c5b49b4a0e5e944309",
       "version_major": 2,
       "version_minor": 0
      },
      "text/plain": [
       "Validation: |          | 0/? [00:00<?, ?it/s]"
      ]
     },
     "metadata": {},
     "output_type": "display_data"
    },
    {
     "data": {
      "application/vnd.jupyter.widget-view+json": {
       "model_id": "0629dc552d5e4c02b375c5a8624528a9",
       "version_major": 2,
       "version_minor": 0
      },
      "text/plain": [
       "Validation: |          | 0/? [00:00<?, ?it/s]"
      ]
     },
     "metadata": {},
     "output_type": "display_data"
    },
    {
     "data": {
      "application/vnd.jupyter.widget-view+json": {
       "model_id": "2c9b6b44dcad43b9bacebd7a0b7b91eb",
       "version_major": 2,
       "version_minor": 0
      },
      "text/plain": [
       "Validation: |          | 0/? [00:00<?, ?it/s]"
      ]
     },
     "metadata": {},
     "output_type": "display_data"
    },
    {
     "data": {
      "application/vnd.jupyter.widget-view+json": {
       "model_id": "9fcb5a083d4a4e219a0ca49dce480d14",
       "version_major": 2,
       "version_minor": 0
      },
      "text/plain": [
       "Validation: |          | 0/? [00:00<?, ?it/s]"
      ]
     },
     "metadata": {},
     "output_type": "display_data"
    },
    {
     "data": {
      "application/vnd.jupyter.widget-view+json": {
       "model_id": "95f73e9745c24e72b9bf297d8ca99a66",
       "version_major": 2,
       "version_minor": 0
      },
      "text/plain": [
       "Validation: |          | 0/? [00:00<?, ?it/s]"
      ]
     },
     "metadata": {},
     "output_type": "display_data"
    },
    {
     "data": {
      "application/vnd.jupyter.widget-view+json": {
       "model_id": "9b36829319e145379ab3a57899ca1382",
       "version_major": 2,
       "version_minor": 0
      },
      "text/plain": [
       "Validation: |          | 0/? [00:00<?, ?it/s]"
      ]
     },
     "metadata": {},
     "output_type": "display_data"
    },
    {
     "data": {
      "application/vnd.jupyter.widget-view+json": {
       "model_id": "f19fa442a8074ff08c51cc24d0aceaa3",
       "version_major": 2,
       "version_minor": 0
      },
      "text/plain": [
       "Validation: |          | 0/? [00:00<?, ?it/s]"
      ]
     },
     "metadata": {},
     "output_type": "display_data"
    },
    {
     "data": {
      "application/vnd.jupyter.widget-view+json": {
       "model_id": "b7ad87e23cb14d9e9eeacc5453d02faf",
       "version_major": 2,
       "version_minor": 0
      },
      "text/plain": [
       "Validation: |          | 0/? [00:00<?, ?it/s]"
      ]
     },
     "metadata": {},
     "output_type": "display_data"
    },
    {
     "data": {
      "application/vnd.jupyter.widget-view+json": {
       "model_id": "ce1f4e98045d46039fd821fcf8eaabc3",
       "version_major": 2,
       "version_minor": 0
      },
      "text/plain": [
       "Validation: |          | 0/? [00:00<?, ?it/s]"
      ]
     },
     "metadata": {},
     "output_type": "display_data"
    },
    {
     "data": {
      "application/vnd.jupyter.widget-view+json": {
       "model_id": "8e65f9f1b8ff4b7abc98ac6fde458019",
       "version_major": 2,
       "version_minor": 0
      },
      "text/plain": [
       "Validation: |          | 0/? [00:00<?, ?it/s]"
      ]
     },
     "metadata": {},
     "output_type": "display_data"
    },
    {
     "data": {
      "application/vnd.jupyter.widget-view+json": {
       "model_id": "274f75e697404d909c9251727200ec6e",
       "version_major": 2,
       "version_minor": 0
      },
      "text/plain": [
       "Validation: |          | 0/? [00:00<?, ?it/s]"
      ]
     },
     "metadata": {},
     "output_type": "display_data"
    },
    {
     "data": {
      "application/vnd.jupyter.widget-view+json": {
       "model_id": "51bd9570aec4448599aaf074dde818ae",
       "version_major": 2,
       "version_minor": 0
      },
      "text/plain": [
       "Validation: |          | 0/? [00:00<?, ?it/s]"
      ]
     },
     "metadata": {},
     "output_type": "display_data"
    }
   ],
   "source": [
    "model = PLNN(input_size=X_train.shape[1], num_classes=3, learning_rate=1e-3)\n",
    "trainer1.fit(model, train_loader, val_loader)"
   ]
  },
  {
   "cell_type": "markdown",
   "id": "6b9f24af",
   "metadata": {},
   "source": [
    "# eval"
   ]
  },
  {
   "cell_type": "code",
   "execution_count": 84,
   "id": "e9623e41",
   "metadata": {},
   "outputs": [
    {
     "name": "stderr",
     "output_type": "stream",
     "text": [
      "Restoring states from the checkpoint path at C:\\Users\\dsapu\\Project\\Python\\repo\\dlp\\globalcaffesyntetic\\checkpoints_Strees_level\\bodyP-epoch=53-val_loss=0.00.ckpt\n",
      "Loaded model weights from the checkpoint at C:\\Users\\dsapu\\Project\\Python\\repo\\dlp\\globalcaffesyntetic\\checkpoints_Strees_level\\bodyP-epoch=53-val_loss=0.00.ckpt\n"
     ]
    },
    {
     "data": {
      "application/vnd.jupyter.widget-view+json": {
       "model_id": "ae903b59fef44f82bd8418726b02254d",
       "version_major": 2,
       "version_minor": 0
      },
      "text/plain": [
       "Validation: |          | 0/? [00:00<?, ?it/s]"
      ]
     },
     "metadata": {},
     "output_type": "display_data"
    },
    {
     "data": {
      "text/html": [
       "<pre style=\"white-space:pre;overflow-x:auto;line-height:normal;font-family:Menlo,'DejaVu Sans Mono',consolas,'Courier New',monospace\">┏━━━━━━━━━━━━━━━━━━━━━━━━━━━┳━━━━━━━━━━━━━━━━━━━━━━━━━━━┓\n",
       "┃<span style=\"font-weight: bold\">      Validate metric      </span>┃<span style=\"font-weight: bold\">       DataLoader 0        </span>┃\n",
       "┡━━━━━━━━━━━━━━━━━━━━━━━━━━━╇━━━━━━━━━━━━━━━━━━━━━━━━━━━┩\n",
       "│<span style=\"color: #008080; text-decoration-color: #008080\">          val_acc          </span>│<span style=\"color: #800080; text-decoration-color: #800080\">            1.0            </span>│\n",
       "│<span style=\"color: #008080; text-decoration-color: #008080\">          val_f1           </span>│<span style=\"color: #800080; text-decoration-color: #800080\">            1.0            </span>│\n",
       "│<span style=\"color: #008080; text-decoration-color: #008080\">         val_kappa         </span>│<span style=\"color: #800080; text-decoration-color: #800080\">            1.0            </span>│\n",
       "│<span style=\"color: #008080; text-decoration-color: #008080\">         val_loss          </span>│<span style=\"color: #800080; text-decoration-color: #800080\">   6.616094765377056e-07   </span>│\n",
       "└───────────────────────────┴───────────────────────────┘\n",
       "</pre>\n"
      ],
      "text/plain": [
       "┏━━━━━━━━━━━━━━━━━━━━━━━━━━━┳━━━━━━━━━━━━━━━━━━━━━━━━━━━┓\n",
       "┃\u001b[1m \u001b[0m\u001b[1m     Validate metric     \u001b[0m\u001b[1m \u001b[0m┃\u001b[1m \u001b[0m\u001b[1m      DataLoader 0       \u001b[0m\u001b[1m \u001b[0m┃\n",
       "┡━━━━━━━━━━━━━━━━━━━━━━━━━━━╇━━━━━━━━━━━━━━━━━━━━━━━━━━━┩\n",
       "│\u001b[36m \u001b[0m\u001b[36m         val_acc         \u001b[0m\u001b[36m \u001b[0m│\u001b[35m \u001b[0m\u001b[35m           1.0           \u001b[0m\u001b[35m \u001b[0m│\n",
       "│\u001b[36m \u001b[0m\u001b[36m         val_f1          \u001b[0m\u001b[36m \u001b[0m│\u001b[35m \u001b[0m\u001b[35m           1.0           \u001b[0m\u001b[35m \u001b[0m│\n",
       "│\u001b[36m \u001b[0m\u001b[36m        val_kappa        \u001b[0m\u001b[36m \u001b[0m│\u001b[35m \u001b[0m\u001b[35m           1.0           \u001b[0m\u001b[35m \u001b[0m│\n",
       "│\u001b[36m \u001b[0m\u001b[36m        val_loss         \u001b[0m\u001b[36m \u001b[0m│\u001b[35m \u001b[0m\u001b[35m  6.616094765377056e-07  \u001b[0m\u001b[35m \u001b[0m│\n",
       "└───────────────────────────┴───────────────────────────┘\n"
      ]
     },
     "metadata": {},
     "output_type": "display_data"
    },
    {
     "data": {
      "text/plain": [
       "[{'val_loss': 6.616094765377056e-07,\n",
       "  'val_f1': 1.0,\n",
       "  'val_acc': 1.0,\n",
       "  'val_kappa': 1.0}]"
      ]
     },
     "execution_count": 84,
     "metadata": {},
     "output_type": "execute_result"
    }
   ],
   "source": [
    "trainer1.validate(model, val_loader, ckpt_path='best')"
   ]
  }
 ],
 "metadata": {
  "kernelspec": {
   "display_name": "dmsdl",
   "language": "python",
   "name": "python3"
  },
  "language_info": {
   "codemirror_mode": {
    "name": "ipython",
    "version": 3
   },
   "file_extension": ".py",
   "mimetype": "text/x-python",
   "name": "python",
   "nbconvert_exporter": "python",
   "pygments_lexer": "ipython3",
   "version": "3.11.13"
  }
 },
 "nbformat": 4,
 "nbformat_minor": 5
}
